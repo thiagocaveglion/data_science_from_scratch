{
 "cells": [
  {
   "cell_type": "markdown",
   "metadata": {},
   "source": [
    "# <b>Estatística</b>\n",
    "---"
   ]
  },
  {
   "cell_type": "markdown",
   "metadata": {},
   "source": [
    "## <b>Introdução</b>"
   ]
  },
  {
   "cell_type": "markdown",
   "metadata": {},
   "source": [
    "### <i>Fatos são obstinados, mas estatísticas são mais maleáveis</i>\n",
    "\n",
    "    — Mark Twain"
   ]
  },
  {
   "cell_type": "markdown",
   "metadata": {},
   "source": [
    "### Estatística se refere à matemática e às técnicas das quais nós entendemos dados. É um campo rico e enorme, que encaixa melhor em uma biblioteca inteira do que em um capítulo de um livro. A discussão de estatística nesse livro não será tão profunda; será necessário explorar mais de outras fontes."
   ]
  },
  {
   "cell_type": "markdown",
   "metadata": {},
   "source": [
    "## <b>Descrevendo um único conjunto de dados</b>"
   ]
  },
  {
   "cell_type": "markdown",
   "metadata": {},
   "source": [
    "### Com uma combinação de sorte e adaptabilidade, a rede social do capítulo 1 cresceu e agora abriga dezenas de membros, e o diretor do projeto te pede algum tipo de descrição de quantos amigos os membros possuem para que ele possa incluir esse valor em suas conversas de elevador."
   ]
  },
  {
   "cell_type": "markdown",
   "metadata": {},
   "source": [
    "### Usando técnicas do capítulo 1, você consegue facilmente produzir esses dados. Mas agora você encontra um problema: como descrevê-los?"
   ]
  },
  {
   "cell_type": "markdown",
   "metadata": {},
   "source": [
    "### Uma descrição óbvia de qualquer conjunto de dados seria os dados em si. Para um dataset pequeno o suficiente, essa pode ser até mesmo a melhor visualização. Porém, para um dataset maior, isso não tem sentido; (imagine-se olhando para uma lista de um milhão de números tentando tirar alguma conclusão). Por esse motivo, utilizamos estatística para destilar e comunicar características importantes dos dados."
   ]
  },
  {
   "cell_type": "markdown",
   "metadata": {},
   "source": [
    "### Como um primeiro approach, você coloca a quantidade de amigos em um histograma:"
   ]
  },
  {
   "cell_type": "code",
   "execution_count": 24,
   "metadata": {},
   "outputs": [],
   "source": [
    "import random\n",
    "# número total de registros\n",
    "total_registros = 200\n",
    "\n",
    "# parâmetro para controlar a distribuição\n",
    "parametro = 2.0\n",
    "\n",
    "# número de amigos com distribuição negativa\n",
    "lista_amigos = [random.randint(0, 100) for _ in range(total_registros)]\n",
    "lista_amigos += [random.randint(0, 50) for _ in range(total_registros)]\n",
    "lista_amigos += [random.randint(0, 25) for _ in range(total_registros)]\n",
    "lista_amigos += [random.randint(0, 10) for _ in range(int(total_registros/2))]"
   ]
  },
  {
   "cell_type": "code",
   "execution_count": 26,
   "metadata": {},
   "outputs": [
    {
     "data": {
      "image/png": "[encoded data removed]",
      "text/plain": [
       "<Figure size 640x480 with 1 Axes>"
      ]
     },
     "metadata": {},
     "output_type": "display_data"
    }
   ],
   "source": [
    "from collections import Counter\n",
    "import matplotlib.pyplot as plt\n",
    "\n",
    "quantidade_de_amigos = Counter(lista_amigos)\n",
    "xs = range(101) # maior valor é 100\n",
    "ys = [quantidade_de_amigos[x] for x in xs] # a altura é o número de amigos\n",
    "plt.bar(xs, ys)\n",
    "plt.axis([0, 101, 0, 35])\n",
    "plt.title(\"Histograma da quantidade de amigos\")\n",
    "plt.xlabel(\"# de amigos\")\n",
    "plt.ylabel(\"# de pessoas\")\n",
    "plt.show()"
   ]
  },
  {
   "cell_type": "markdown",
   "metadata": {},
   "source": [
    "### Infelizmente, essa visualização ainda é muito difícil de encaixar em conversas. Então você começa a desenvolver algumas estatísticas. Provavelmente a mais simples é o número de pontos de dados:"
   ]
  },
  {
   "cell_type": "code",
   "execution_count": 27,
   "metadata": {},
   "outputs": [
    {
     "data": {
      "text/plain": [
       "700"
      ]
     },
     "execution_count": 27,
     "metadata": {},
     "output_type": "execute_result"
    }
   ],
   "source": [
    "numero_de_pontos = len(lista_amigos)\n",
    "numero_de_pontos"
   ]
  },
  {
   "cell_type": "markdown",
   "metadata": {},
   "source": [
    "### Você também está provavelmente interessado no maior e no menor valor:"
   ]
  },
  {
   "cell_type": "code",
   "execution_count": 28,
   "metadata": {},
   "outputs": [
    {
     "name": "stdout",
     "output_type": "stream",
     "text": [
      "100\n",
      "0\n"
     ]
    }
   ],
   "source": [
    "maior_valor = max(lista_amigos)\n",
    "menor_valor = min(lista_amigos)\n",
    "\n",
    "print(maior_valor)\n",
    "print(menor_valor)"
   ]
  }
 ],
 "metadata": {
  "kernelspec": {
   "display_name": "datasciencefromscratch",
   "language": "python",
   "name": "python3"
  },
  "language_info": {
   "codemirror_mode": {
    "name": "ipython",
    "version": 3
   },
   "file_extension": ".py",
   "mimetype": "text/x-python",
   "name": "python",
   "nbconvert_exporter": "python",
   "pygments_lexer": "ipython3",
   "version": "3.11.3"
  },
  "orig_nbformat": 4
 },
 "nbformat": 4,
 "nbformat_minor": 2
}
