{
 "cells": [
  {
   "cell_type": "markdown",
   "metadata": {},
   "source": [
    "# <b>Estatística</b>\n",
    "---"
   ]
  },
  {
   "cell_type": "markdown",
   "metadata": {},
   "source": [
    "## <b>Introdução</b>"
   ]
  },
  {
   "cell_type": "markdown",
   "metadata": {},
   "source": [
    "### <i>Fatos são obstinados, mas estatísticas são mais maleáveis</i>\n",
    "\n",
    "    — Mark Twain"
   ]
  },
  {
   "cell_type": "markdown",
   "metadata": {},
   "source": [
    "### Estatística se refere à matemática e às técnicas das quais nós entendemos dados. É um campo rico e enorme, que encaixa melhor em uma biblioteca inteira do que em um capítulo de um livro. A discussão de estatística nesse livro não será tão profunda; será necessário explorar mais de outras fontes."
   ]
  },
  {
   "cell_type": "markdown",
   "metadata": {},
   "source": [
    "## <b>Descrevendo um único conjunto de dados</b>"
   ]
  },
  {
   "cell_type": "markdown",
   "metadata": {},
   "source": [
    "### Com uma combinação de sorte e adaptabilidade, a rede social do capítulo 1 cresceu e agora abriga dezenas de membros, e o diretor do projeto te pede algum tipo de descrição de quantos amigos os membros possuem para que ele possa incluir esse valor em suas conversas de elevador."
   ]
  },
  {
   "cell_type": "markdown",
   "metadata": {},
   "source": [
    "### Usando técnicas do capítulo 1, você consegue facilmente produzir esses dados. Mas agora você encontra um problema: como descrevê-los?"
   ]
  },
  {
   "cell_type": "markdown",
   "metadata": {},
   "source": [
    "### Uma descrição óbvia de qualquer conjunto de dados seria os dados em si. Para um dataset pequeno o suficiente, essa pode ser até mesmo a melhor visualização. Porém, para um dataset maior, isso não tem sentido; (imagine-se olhando para uma lista de um milhão de números tentando tirar alguma conclusão). Por esse motivo, utilizamos estatística para destilar e comunicar características importantes dos dados."
   ]
  },
  {
   "cell_type": "markdown",
   "metadata": {},
   "source": [
    "### Como um primeiro approach, você coloca a quantidade de amigos em um histograma:"
   ]
  },
  {
   "cell_type": "code",
   "execution_count": 2,
   "metadata": {},
   "outputs": [],
   "source": [
    "import random\n",
    "# número total de registros\n",
    "total_registros = 200\n",
    "\n",
    "# parâmetro para controlar a distribuição\n",
    "parametro = 2.0\n",
    "\n",
    "# número de amigos com distribuição negativa\n",
    "lista_amigos = [random.randint(0, 100) for _ in range(total_registros)]\n",
    "lista_amigos += [random.randint(0, 50) for _ in range(total_registros)]\n",
    "lista_amigos += [random.randint(0, 25) for _ in range(total_registros)]\n",
    "lista_amigos += [random.randint(0, 10) for _ in range(int(total_registros/2))]"
   ]
  },
  {
   "cell_type": "code",
   "execution_count": 3,
   "metadata": {},
   "outputs": [
    {
     "data": {
      "image/png": "[encoded data removed]",
      "text/plain": [
       "<Figure size 640x480 with 1 Axes>"
      ]
     },
     "metadata": {},
     "output_type": "display_data"
    }
   ],
   "source": [
    "from collections import Counter\n",
    "import matplotlib.pyplot as plt\n",
    "\n",
    "quantidade_de_amigos = Counter(lista_amigos)\n",
    "xs = range(101) # maior valor é 100\n",
    "ys = [quantidade_de_amigos[x] for x in xs] # a altura é o número de amigos\n",
    "plt.bar(xs, ys)\n",
    "plt.axis([0, 101, 0, 35])\n",
    "plt.title(\"Histograma da quantidade de amigos\")\n",
    "plt.xlabel(\"# de amigos\")\n",
    "plt.ylabel(\"# de pessoas\")\n",
    "plt.show()"
   ]
  },
  {
   "cell_type": "markdown",
   "metadata": {},
   "source": [
    "### Infelizmente, essa visualização ainda é muito difícil de encaixar em conversas. Então você começa a desenvolver algumas estatísticas. Provavelmente a mais simples é o número de pontos de dados:"
   ]
  },
  {
   "cell_type": "code",
   "execution_count": 4,
   "metadata": {},
   "outputs": [
    {
     "data": {
      "text/plain": [
       "700"
      ]
     },
     "execution_count": 4,
     "metadata": {},
     "output_type": "execute_result"
    }
   ],
   "source": [
    "numero_de_pontos = len(lista_amigos)\n",
    "numero_de_pontos"
   ]
  },
  {
   "cell_type": "markdown",
   "metadata": {},
   "source": [
    "### Você também está provavelmente interessado no maior e no menor valor:"
   ]
  },
  {
   "cell_type": "code",
   "execution_count": 5,
   "metadata": {},
   "outputs": [
    {
     "name": "stdout",
     "output_type": "stream",
     "text": [
      "100\n",
      "0\n"
     ]
    }
   ],
   "source": [
    "maior_valor = max(lista_amigos)\n",
    "menor_valor = min(lista_amigos)\n",
    "\n",
    "print(maior_valor)\n",
    "print(menor_valor)"
   ]
  },
  {
   "cell_type": "markdown",
   "metadata": {},
   "source": [
    "### Que são casos especiais dos valores em posições específicas"
   ]
  },
  {
   "cell_type": "code",
   "execution_count": 6,
   "metadata": {},
   "outputs": [
    {
     "name": "stdout",
     "output_type": "stream",
     "text": [
      "0 0 100 99\n"
     ]
    }
   ],
   "source": [
    "valores_ordenados = sorted(lista_amigos)\n",
    "\n",
    "menor_valor = valores_ordenados[0]\n",
    "segundo_menor_valor = valores_ordenados[1]\n",
    "maior_valor = valores_ordenados[-1]\n",
    "segundo_maior_valor = valores_ordenados[-2]\n",
    "\n",
    "print(menor_valor, segundo_menor_valor, maior_valor, segundo_maior_valor)"
   ]
  },
  {
   "cell_type": "markdown",
   "metadata": {},
   "source": [
    "## <b>Tendências Centrais</b>"
   ]
  },
  {
   "cell_type": "markdown",
   "metadata": {},
   "source": [
    "### Geralmente iremos querer ter alguma noção de onde os dados estão centrado. Mais comumente, utilizaremos a média (mean, average), a qual é só uma soma dos dados dividida pela quantidade."
   ]
  },
  {
   "cell_type": "code",
   "execution_count": 11,
   "metadata": {},
   "outputs": [
    {
     "name": "stdout",
     "output_type": "stream",
     "text": [
      "26.775714285714287\n",
      "26.775714285714287\n"
     ]
    }
   ],
   "source": [
    "def mean(dados: list[float]) -> float:\n",
    "    return sum(dados)/len(dados)\n",
    "\n",
    "\n",
    "print(mean(list(map(lambda x: float(x), lista_amigos))))\n",
    "## uma extensao do vscode está dizendo que uma lista de ints não pode ser utilizada com floats\n",
    "## vamos fazer uma função para consertar isso\n",
    "\n",
    "def list_float(dados: list[int]) -> list[float]:\n",
    "    return [float(i) for i in dados]\n",
    "\n",
    "print(mean(list_float(lista_amigos)))"
   ]
  },
  {
   "cell_type": "markdown",
   "metadata": {},
   "source": [
    "### Se você tem dois data points, a média é simplesmente o ponto bem na metade entre os dois. Conforme você adiciona mais pontos, a média se move ao redor; mas sempre depende do valor de cada ponto. Por exemplo, se você tiver 10 pontos de dados e aumentar o valor de qualquer um deles por 1, o aumento da média vai ser de 1/10 ou 0.1"
   ]
  },
  {
   "cell_type": "markdown",
   "metadata": {},
   "source": [
    "### Também podemos estar interessados na mediana, que é o valor do meio (se o número de data points for ímpar) ou a média dos dois pontos centrais (se o número de data points for par). A mediana é sempre considerada em uma instância ordenada dos dados."
   ]
  },
  {
   "cell_type": "code",
   "execution_count": 17,
   "metadata": {},
   "outputs": [],
   "source": [
    "# O underline antes das funções indica que são funções privadas, que não devem ser\n",
    "# utilizadas pelo usuário final da biblioteca\n",
    "\n",
    "def _median_odd(xs: list[float]) -> float:\n",
    "    return sorted(xs)[len(xs) // 2]\n",
    "\n",
    "def _median_even(xs: list[float]) -> float:\n",
    "    sorted_xs = sorted(xs)\n",
    "    hi_mipoint = len(xs) // 2\n",
    "    return (sorted_xs[hi_mipoint - 1] + sorted_xs[hi_mipoint]) / 2\n",
    "\n",
    "def median(xs: list[float]) -> float:\n",
    "    return _median_even(xs) if len(xs) % 2 == 0 else _median_odd(xs) \n",
    "\n",
    "\n",
    "assert median([1, 10, 2, 9, 5]) == 5\n",
    "assert median([1, 9, 2, 10]) == (2 + 9) / 2 "
   ]
  },
  {
   "cell_type": "markdown",
   "metadata": {},
   "source": [
    "### E agora podemos computar a mediana de amigos:"
   ]
  },
  {
   "cell_type": "code",
   "execution_count": 18,
   "metadata": {},
   "outputs": [
    {
     "name": "stdout",
     "output_type": "stream",
     "text": [
      "19.0\n"
     ]
    }
   ],
   "source": [
    "print(median(list_float(lista_amigos)))"
   ]
  }
 ],
 "metadata": {
  "kernelspec": {
   "display_name": "datasciencefromscratch",
   "language": "python",
   "name": "python3"
  },
  "language_info": {
   "codemirror_mode": {
    "name": "ipython",
    "version": 3
   },
   "file_extension": ".py",
   "mimetype": "text/x-python",
   "name": "python",
   "nbconvert_exporter": "python",
   "pygments_lexer": "ipython3",
   "version": "3.11.3"
  },
  "orig_nbformat": 4
 },
 "nbformat": 4,
 "nbformat_minor": 2
}
