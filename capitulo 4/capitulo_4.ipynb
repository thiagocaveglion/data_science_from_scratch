{
 "cells": [
  {
   "cell_type": "markdown",
   "metadata": {},
   "source": [
    "# <b>Álgebra Linear</b>\n",
    "---"
   ]
  },
  {
   "cell_type": "markdown",
   "metadata": {},
   "source": [
    "## <b>Introdução</b>"
   ]
  },
  {
   "cell_type": "markdown",
   "metadata": {},
   "source": [
    "### <i>Existe algo mais inútil ou menos útil que álgebra?</i>\n",
    "    — Billy Connolly"
   ]
  },
  {
   "cell_type": "markdown",
   "metadata": {},
   "source": [
    "### Álgebra linear é o ramo da matemática que lida com espaços vetoriais. Mesmo que não seja possível juntar todo o conteúdo desse tópico em um capítulo curto, ela é necessária para um grande números de conceitos e técnicas da ciência de dados. O que for aprendido nesse capítulo será intensamente utilizado no resto do livro."
   ]
  },
  {
   "cell_type": "markdown",
   "metadata": {},
   "source": [
    "## <b>Vetores</b>"
   ]
  },
  {
   "cell_type": "markdown",
   "metadata": {},
   "source": [
    "### De maneira abstrata, vetores são objetos que podem ser adicionados para formar novos vetores e que podem ser multiplicados por escalares (números) para formar, também, novos vetores."
   ]
  },
  {
   "cell_type": "markdown",
   "metadata": {},
   "source": [
    "### De maneira concreta (nesse escopo), vetores são pontos em algum espaço com dimensões finitas. Mesmo que você não pense nos seus dados como vetores, eles são frequentemente uma boa maneira de representar dados numéricos"
   ]
  },
  {
   "cell_type": "markdown",
   "metadata": {},
   "source": [
    "### Por exemplo, se você tiver a altura, peso e idade de um grande número de pessoas, você pode tratar seus dados como um vetor tri-dimensional: [altura, peso, idade]. Se você estiver ensinando uma turma que têm 4 provas, você pode tratar as notas dos estudantes como um vetor quadri-dimensional: [prova1, prova2, prova3, prova4]."
   ]
  },
  {
   "cell_type": "markdown",
   "metadata": {},
   "source": [
    "### O approach mais simples para representar vetores é uma lista de números. Uma lista de 3 números corresponde a um vetor tri-dimensional, uma lista de 4 números corresponde a um vetor quadri-dimensional, etc."
   ]
  },
  {
   "cell_type": "markdown",
   "metadata": {},
   "source": [
    "### Nesse contexto, vamos interpretar isso dizendo que um Vetor é somente uma lista de floats"
   ]
  },
  {
   "cell_type": "code",
   "execution_count": 2,
   "metadata": {},
   "outputs": [],
   "source": [
    "from typing import List\n",
    "\n",
    "Vetor = List[float]\n",
    "\n",
    "altura_peso_idade = [1.80, # metros\n",
    "                     80,   # quilos \n",
    "                     40 ]  # anos\n",
    "\n",
    "notas = [95,  # prova 1\n",
    "         80,  # prova 2\n",
    "         75,  # prova 3\n",
    "         62 ] # prova 4"
   ]
  },
  {
   "cell_type": "markdown",
   "metadata": {},
   "source": [
    "### Nós também queremos fazer aritmética com vetores. Como listas python não são vetores (e não provém auxílio para realizar aritmética vetorial), nós precisamos construir essas operações nós mesmos."
   ]
  },
  {
   "cell_type": "markdown",
   "metadata": {},
   "source": [
    "### Pra começar, nós frequentemente vamos ter de adicionar dois vetores. Vetores adicionam via componentes. Isso significa que, se 2 vetores v e w tem o mesmo tamanho, a soma deles será o vetor cujo primeiro elemento é v[0] + w[0], cujo segundo será v[1] + w[1] e assim por diante."
   ]
  },
  {
   "cell_type": "markdown",
   "metadata": {},
   "source": [
    "### Por exemplo, adicionar os vetores [1, 2] e [2, 1] resulta em [3, 3], como mostrado na figura"
   ]
  },
  {
   "cell_type": "markdown",
   "metadata": {},
   "source": [
    "![Alt text](imagens/image.png)"
   ]
  },
  {
   "cell_type": "markdown",
   "metadata": {},
   "source": [
    "### Podemos facilmente implementar isso zipando os vetores juntos e utilizando uma list comprehension para adicioná-los"
   ]
  },
  {
   "cell_type": "code",
   "execution_count": 3,
   "metadata": {},
   "outputs": [],
   "source": [
    "def adicionar(v: Vetor, w: Vetor) -> Vetor:\n",
    "    \"\"\"adiciona os elementos correspondentes\"\"\"\n",
    "    assert len(v) == len(w), \"vetores devem ter o mesmo tamanho\"\n",
    "\n",
    "    return [v_i + w_i for v_i, w_i in zip(v, w)]\n",
    "\n",
    "assert adicionar([1, 2, 3], [4, 5, 6]) == [5, 7 ,9]"
   ]
  },
  {
   "cell_type": "markdown",
   "metadata": {},
   "source": [
    "### De maneira similar, para subtrair dois vetores nós só subtraimos os elementos correspondentes"
   ]
  },
  {
   "cell_type": "code",
   "execution_count": 4,
   "metadata": {},
   "outputs": [],
   "source": [
    "def subtrair(v: Vetor, w: Vetor) -> Vetor:\n",
    "    \"\"\"adiciona os elementos correspondentes\"\"\"\n",
    "    assert len(v) == len(w), \"vetores devem ter o mesmo tamanho\"\n",
    "\n",
    "    return [v_i - w_i for v_i, w_i in zip(v, w)]\n",
    "\n",
    "\n",
    "assert subtrair([5, 7, 9], [4, 5, 6]) == [1, 2, 3]"
   ]
  },
  {
   "cell_type": "markdown",
   "metadata": {},
   "source": [
    "### Algumas vezes também vamos querer fazer uma soma orientada à componentes de uma lista de vetores; isto é, criar um novo vetor cijo primeiro elemento é a soma de todos os primeiros elementos, cujo segundo elemento é a soma de todos os segundo elementos, etc."
   ]
  },
  {
   "cell_type": "code",
   "execution_count": 6,
   "metadata": {},
   "outputs": [],
   "source": [
    "def soma_vetorial(vetores: List[Vetor]) -> Vetor:\n",
    "    \"\"\"soma todos os elementos correspondentes\"\"\"\n",
    "    assert vetores, \"nenhum vetor foi informado\"\n",
    "    num_elementos = len(vetores[0])\n",
    "    assert all(len(v) == num_elementos for v in vetores), \"tamanhos diferentes\"\n",
    "    # cada elemento de indice i é somado e adicionado em uma lista\n",
    "    return [sum(vetor[i] for vetor in vetores) \n",
    "                for i in range(num_elementos)] \n",
    "\n",
    "assert soma_vetorial([[1, 2], [3, 4], [5, 6], [7, 8]]) == [16, 20]\n"
   ]
  },
  {
   "cell_type": "markdown",
   "metadata": {},
   "source": [
    "### Nós também precisamos ser capazes de multiplicar um vetor por um escalar, o qual fazemos simplesmente multiplicando cada elemento do vetor por aquele número."
   ]
  },
  {
   "cell_type": "code",
   "execution_count": 7,
   "metadata": {},
   "outputs": [],
   "source": [
    "def multiplicacao_escalar(c: float, v: Vetor) -> Vetor:\n",
    "    \"\"\"multiplica todos os elementos por c\"\"\"\n",
    "    return list(map(lambda x: x * c, v))\n",
    "\n",
    "assert multiplicacao_escalar(2, [1, 2, 3]) == [2, 4, 6]"
   ]
  },
  {
   "cell_type": "markdown",
   "metadata": {},
   "source": [
    "### Isso nos permite as médias orientada à componentes de uma lista de vetores [de mesmo tamanho]:"
   ]
  },
  {
   "cell_type": "code",
   "execution_count": 8,
   "metadata": {},
   "outputs": [],
   "source": [
    "def media_vetorial(vetores: List[Vetor]) -> Vetor:\n",
    "    \"\"\"computa a média orientada à componente\"\"\"\n",
    "    n = len(vetores)\n",
    "    return multiplicacao_escalar(1/n, soma_vetorial(vetores))\n",
    "\n",
    "assert media_vetorial([[1, 2], [3, 4], [5, 6]]) == [3, 4]"
   ]
  },
  {
   "cell_type": "markdown",
   "metadata": {},
   "source": [
    "### Uma ferramenta menos óbvia é o produto escalar. O produto escalar (produto interno) de dois vetores é a soma dos seus produtos orientados à componentes:"
   ]
  },
  {
   "cell_type": "code",
   "execution_count": 9,
   "metadata": {},
   "outputs": [],
   "source": [
    "def dot(v: Vetor, w: Vetor) -> float:\n",
    "    \"\"\"\"computa o produto escalar\"\"\"\n",
    "    assert len(v) == len(w), \"os tamanhos devem ser iguais\"\n",
    "    return sum(v_i * w_i for v_i, w_i in zip(v, w))\n",
    "\n",
    "assert dot([1, 2, 3], [4, 5, 6]) == 32 # 1 * 4 + 2 * 5 + 3 * 6\n",
    "\n"
   ]
  },
  {
   "cell_type": "markdown",
   "metadata": {},
   "source": [
    "### Se w tem magnetude 1, o produto escalar mede quão longe o vetor v estende na direção do w. Por exemplo, se w = [1, 0], então dot(v, w) é o primeiro componente de v. Outra maneira de dizer isso é que é o comprimento do vetor que você conseguiria se projetasse v em w."
   ]
  },
  {
   "cell_type": "markdown",
   "metadata": {},
   "source": [
    "![Alt text](imagens/image2.png)"
   ]
  },
  {
   "cell_type": "markdown",
   "metadata": {},
   "source": [
    "### Usando isso, é fácil computar uma suma de quadrados de um vetor:"
   ]
  },
  {
   "cell_type": "code",
   "execution_count": 12,
   "metadata": {},
   "outputs": [],
   "source": [
    "def soma_de_quadrados(v: Vetor) -> float:\n",
    "    return dot(v, v)\n",
    "\n",
    "assert soma_de_quadrados([1, 2, 3]) == 14"
   ]
  },
  {
   "cell_type": "markdown",
   "metadata": {},
   "source": [
    "### A qual nós podemos utilizar para computar sua magnitude (ou comprimento)"
   ]
  },
  {
   "cell_type": "code",
   "execution_count": 11,
   "metadata": {},
   "outputs": [],
   "source": [
    "import math\n",
    "\n",
    "def magnitude(v: Vetor) -> float:\n",
    "    return math.sqrt(soma_de_quadrados(v))\n",
    "\n",
    "assert magnitude([3, 4]) == 5"
   ]
  },
  {
   "cell_type": "markdown",
   "metadata": {},
   "source": [
    "### Agora temos todas as peças necessárias para computar a distância entre dois vetores, definida pela raiz da soma dos quadrados da subtração dos elementos."
   ]
  },
  {
   "cell_type": "markdown",
   "metadata": {},
   "source": [
    "![Alt text](imagens/image3.png)"
   ]
  },
  {
   "cell_type": "markdown",
   "metadata": {},
   "source": [
    "### Em código:"
   ]
  },
  {
   "cell_type": "code",
   "execution_count": 13,
   "metadata": {},
   "outputs": [],
   "source": [
    "def distancia_ao_quadrado(v: Vetor, w: Vetor) -> float:\n",
    "    return soma_de_quadrados(subtrair(v, w))\n",
    "\n",
    "\n",
    "def distancia(v: Vetor, w: Vetor) -> float:\n",
    "    return math.sqrt(distancia_ao_quadrado(v, w))\n"
   ]
  },
  {
   "cell_type": "markdown",
   "metadata": {},
   "source": [
    "### É provavelmente mais claro se escrevermos como (de forma equivalente):"
   ]
  },
  {
   "cell_type": "code",
   "execution_count": 14,
   "metadata": {},
   "outputs": [],
   "source": [
    "def distancia (v: Vetor, w: Vetor) -> float:\n",
    "    return magnitude(subtrair(v, w))"
   ]
  },
  {
   "cell_type": "markdown",
   "metadata": {},
   "source": [
    "### Isso deve ser mais que o suficiente para um começo. Essas funções serão altamente utilizadas pelo livro."
   ]
  },
  {
   "cell_type": "markdown",
   "metadata": {},
   "source": [
    "### <b>Nota</b>\n",
    "### Utilizar listas é ótimo para exposição, mas terrível para performance.\n",
    "### Em código de produção, você vai querer utilizar a lib Numpy, que inclui classes de array de alta performance e todos os tipos de operações aritméticas inclusas."
   ]
  },
  {
   "cell_type": "markdown",
   "metadata": {},
   "source": [
    "## <b>Matrizes</b>"
   ]
  }
 ],
 "metadata": {
  "kernelspec": {
   "display_name": "datasciencefromscratch",
   "language": "python",
   "name": "python3"
  },
  "language_info": {
   "codemirror_mode": {
    "name": "ipython",
    "version": 3
   },
   "file_extension": ".py",
   "mimetype": "text/x-python",
   "name": "python",
   "nbconvert_exporter": "python",
   "pygments_lexer": "ipython3",
   "version": "3.11.3"
  },
  "orig_nbformat": 4
 },
 "nbformat": 4,
 "nbformat_minor": 2
}
