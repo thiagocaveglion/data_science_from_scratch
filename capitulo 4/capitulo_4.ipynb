{
 "cells": [
  {
   "cell_type": "markdown",
   "metadata": {},
   "source": [
    "# <b>Álgebra Linear</b>\n",
    "---"
   ]
  },
  {
   "cell_type": "markdown",
   "metadata": {},
   "source": [
    "## <b>Introdução</b>"
   ]
  },
  {
   "cell_type": "markdown",
   "metadata": {},
   "source": [
    "### <i>Existe algo mais inútil ou menos útil que álgebra?</i>\n",
    "    — Billy Connolly"
   ]
  },
  {
   "cell_type": "markdown",
   "metadata": {},
   "source": [
    "### Álgebra linear é o ramo da matemática que lida com espaços vetoriais. Mesmo que não seja possível juntar todo o conteúdo desse tópico em um capítulo curto, ela é necessária para um grande números de conceitos e técnicas da ciência de dados. O que for aprendido nesse capítulo será intensamente utilizado no resto do livro."
   ]
  },
  {
   "cell_type": "markdown",
   "metadata": {},
   "source": [
    "## <b>Vetores</b>"
   ]
  },
  {
   "cell_type": "markdown",
   "metadata": {},
   "source": [
    "### De maneira abstrata, vetores são objetos que podem ser adicionados para formar novos vetores e que podem ser multiplicados por escalares (números) para formar, também, novos vetores."
   ]
  },
  {
   "cell_type": "markdown",
   "metadata": {},
   "source": [
    "### De maneira concreta (nesse escopo), vetores são pontos em algum espaço com dimensões finitas. Mesmo que você não pense nos seus dados como vetores, eles são frequentemente uma boa maneira de representar dados numéricos"
   ]
  },
  {
   "cell_type": "markdown",
   "metadata": {},
   "source": [
    "### Por exemplo, se você tiver a altura, peso e idade de um grande número de pessoas, você pode tratar seus dados como um vetor tri-dimensional: [altura, peso, idade]. Se você estiver ensinando uma turma que têm 4 provas, você pode tratar as notas dos estudantes como um vetor quadri-dimensional: [prova1, prova2, prova3, prova4]."
   ]
  },
  {
   "cell_type": "markdown",
   "metadata": {},
   "source": [
    "### O approach mais simples para representar vetores é uma lista de números. Uma lista de 3 números corresponde a um vetor tri-dimensional, uma lista de 4 números corresponde a um vetor quadri-dimensional, etc."
   ]
  },
  {
   "cell_type": "markdown",
   "metadata": {},
   "source": [
    "### Nesse contexto, vamos interpretar isso dizendo que um Vetor é somente uma lista de floats"
   ]
  },
  {
   "cell_type": "code",
   "execution_count": 4,
   "metadata": {},
   "outputs": [],
   "source": [
    "from typing import List\n",
    "\n",
    "Vetor = List[float]\n",
    "\n",
    "altura_peso_idade = [1.80, # metros\n",
    "                     80,   # quilos \n",
    "                     40 ]  # anos\n",
    "\n",
    "notas = [95,  # prova 1\n",
    "         80,  # prova 2\n",
    "         75,  # prova 3\n",
    "         62 ] # prova 4"
   ]
  },
  {
   "cell_type": "markdown",
   "metadata": {},
   "source": [
    "### Nós também queremos fazer aritmética com vetores. Como listas python não são vetores (e não provém auxílio para realizar aritmética vetorial), nós precisamos construir essas operações nós mesmos."
   ]
  }
 ],
 "metadata": {
  "kernelspec": {
   "display_name": "datasciencefromscratch",
   "language": "python",
   "name": "python3"
  },
  "language_info": {
   "codemirror_mode": {
    "name": "ipython",
    "version": 3
   },
   "file_extension": ".py",
   "mimetype": "text/x-python",
   "name": "python",
   "nbconvert_exporter": "python",
   "pygments_lexer": "ipython3",
   "version": "3.11.3"
  },
  "orig_nbformat": 4
 },
 "nbformat": 4,
 "nbformat_minor": 2
}
