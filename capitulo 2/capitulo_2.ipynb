{
 "cells": [
  {
   "cell_type": "markdown",
   "metadata": {},
   "source": [
    "# <b>Python</b>\n",
    "---"
   ]
  },
  {
   "cell_type": "markdown",
   "metadata": {},
   "source": [
    "## <b>Imports</b>"
   ]
  },
  {
   "cell_type": "code",
   "execution_count": 107,
   "metadata": {},
   "outputs": [
    {
     "data": {
      "text/plain": [
       "re.compile(r'[0-9]+', re.IGNORECASE|re.UNICODE)"
      ]
     },
     "execution_count": 107,
     "metadata": {},
     "output_type": "execute_result"
    }
   ],
   "source": [
    "import re\n",
    "\n",
    "my_regex = re.compile(\"[0-9]+\", re.I)\n",
    "my_regex"
   ]
  },
  {
   "cell_type": "markdown",
   "metadata": {},
   "source": [
    "### Foram instaladas no Env nesse momento as bibliotecas: matplotlib, numpy, pandas e Ipython"
   ]
  },
  {
   "cell_type": "code",
   "execution_count": 108,
   "metadata": {},
   "outputs": [],
   "source": [
    "import matplotlib.pyplot as plt\n",
    "import numpy\n",
    "import pandas\n",
    "\n"
   ]
  },
  {
   "cell_type": "markdown",
   "metadata": {},
   "source": [
    "## <b>Funções</b>"
   ]
  },
  {
   "cell_type": "markdown",
   "metadata": {},
   "source": [
    "### Entendendo as nuances das funções"
   ]
  },
  {
   "cell_type": "code",
   "execution_count": 109,
   "metadata": {},
   "outputs": [
    {
     "data": {
      "text/plain": [
       "2"
      ]
     },
     "execution_count": 109,
     "metadata": {},
     "output_type": "execute_result"
    }
   ],
   "source": [
    "def double(x):\n",
    "    return 2*x\n",
    "\n",
    "def apply_to_one(f):\n",
    "    return f(1)\n",
    "\n",
    "y = apply_to_one(lambda x : x + 4)\n",
    "# apply_to_one(double()) traz um erro pois executa como funcao\n",
    "apply_to_one(double) # não executa como erro visto que está passando a funcao como parametro"
   ]
  },
  {
   "cell_type": "code",
   "execution_count": 110,
   "metadata": {},
   "outputs": [
    {
     "data": {
      "text/plain": [
       "4"
      ]
     },
     "execution_count": 110,
     "metadata": {},
     "output_type": "execute_result"
    }
   ],
   "source": [
    "lambda_double = lambda x: 2*x # má pratica\n",
    "lambda_double(2)"
   ]
  },
  {
   "cell_type": "code",
   "execution_count": 111,
   "metadata": {},
   "outputs": [
    {
     "data": {
      "text/plain": [
       "'Thiago Caveglion'"
      ]
     },
     "execution_count": 111,
     "metadata": {},
     "output_type": "execute_result"
    }
   ],
   "source": [
    "def print_nome(nome = \"Fulano\", sobrenome = \"de Tal\"):\n",
    "    return nome + \" \" + sobrenome\n",
    "\n",
    "print_nome(nome = \"Thiago\", sobrenome = \"Caveglion\")"
   ]
  },
  {
   "cell_type": "markdown",
   "metadata": {},
   "source": [
    "## <b>Strings</b>"
   ]
  },
  {
   "cell_type": "code",
   "execution_count": 112,
   "metadata": {},
   "outputs": [],
   "source": [
    "aspas_simples = 'funciona perfeitamente'\n",
    "aspas_duplas = \"desse jeito também\"\n"
   ]
  },
  {
   "cell_type": "code",
   "execution_count": 113,
   "metadata": {},
   "outputs": [
    {
     "data": {
      "text/plain": [
       "1"
      ]
     },
     "execution_count": 113,
     "metadata": {},
     "output_type": "execute_result"
    }
   ],
   "source": [
    "tab_string = \"\\t\"\n",
    "len(tab_string)"
   ]
  },
  {
   "cell_type": "code",
   "execution_count": 114,
   "metadata": {},
   "outputs": [
    {
     "name": "stdout",
     "output_type": "stream",
     "text": [
      "oi\tto\n"
     ]
    }
   ],
   "source": [
    "print(\"oi\" + tab_string + \"to\")"
   ]
  },
  {
   "cell_type": "markdown",
   "metadata": {},
   "source": [
    "### r\"\" são úteis para os valores literais, r traduz para \"raw string\""
   ]
  },
  {
   "cell_type": "code",
   "execution_count": 115,
   "metadata": {},
   "outputs": [
    {
     "name": "stdout",
     "output_type": "stream",
     "text": [
      "\\t, essa string pega os valores literais\n"
     ]
    },
    {
     "data": {
      "text/plain": [
       "'\\\\t, essa string pega os valores literais'"
      ]
     },
     "execution_count": 115,
     "metadata": {},
     "output_type": "execute_result"
    }
   ],
   "source": [
    "string_bruta = r\"\\t, essa string pega os valores literais\"\n",
    "print(string_bruta)\n",
    "string_bruta # a variavel possui 2 barras pois a funcao r\"\" converte os caracteres especiais naqueles que o compilador entende efetivamente\n"
   ]
  },
  {
   "cell_type": "code",
   "execution_count": 116,
   "metadata": {},
   "outputs": [
    {
     "name": "stdout",
     "output_type": "stream",
     "text": [
      "primeira linha da string\n",
      "segunda linha da string\n",
      "terceira linha da string\n"
     ]
    },
    {
     "data": {
      "text/plain": [
       "'primeira linha da string\\nsegunda linha da string\\nterceira linha da string'"
      ]
     },
     "execution_count": 116,
     "metadata": {},
     "output_type": "execute_result"
    }
   ],
   "source": [
    "string_multiplas_linhas = \"\"\"primeira linha da string\n",
    "segunda linha da string\n",
    "terceira linha da string\"\"\"\n",
    "print(string_multiplas_linhas)\n",
    "string_multiplas_linhas # ela adapta automaticamente o \\n para o print sair apropriadamente"
   ]
  },
  {
   "cell_type": "markdown",
   "metadata": {},
   "source": [
    "## <b>Exceções</b>"
   ]
  },
  {
   "cell_type": "markdown",
   "metadata": {},
   "source": [
    "### Em python, exceções podem ser úteis em determinados contextos"
   ]
  },
  {
   "cell_type": "code",
   "execution_count": 117,
   "metadata": {},
   "outputs": [
    {
     "name": "stdout",
     "output_type": "stream",
     "text": [
      "outro erro\n"
     ]
    }
   ],
   "source": [
    "try:\n",
    "    a = int(\"\")\n",
    "except ZeroDivisionError: print(\"divisão por 0\")\n",
    "except: print(\"outro erro\")"
   ]
  },
  {
   "cell_type": "markdown",
   "metadata": {},
   "source": [
    "## <b>Listas</b>"
   ]
  },
  {
   "cell_type": "code",
   "execution_count": 118,
   "metadata": {},
   "outputs": [],
   "source": [
    "lista_inteiros = [1, 2, 3]\n",
    "\n",
    "lista_heterogenea = [\"string\", 1, 0.1, True]\n",
    "\n",
    "lista_de_listas = [lista_inteiros, lista_heterogenea, [3, 2, 1], [\"Thiago\", \"Felipe\"]]"
   ]
  },
  {
   "cell_type": "markdown",
   "metadata": {},
   "source": [
    "### Para imprimir uma lista de elementos numéricos, primeiro é necessário converter o elemento para string com a função map()"
   ]
  },
  {
   "cell_type": "code",
   "execution_count": 119,
   "metadata": {},
   "outputs": [
    {
     "data": {
      "text/plain": [
       "'3 4 3 2'"
      ]
     },
     "execution_count": 119,
     "metadata": {},
     "output_type": "execute_result"
    }
   ],
   "source": [
    "tamanho_lista = lambda lista: len(lista)\n",
    "converte_string = lambda elemento: str(elemento)\n",
    "\" \".join(list(map(converte_string, [tamanho_lista(lista) for lista in lista_de_listas]))) # list comprehension, map para converter os elementos individuais para string, join"
   ]
  },
  {
   "cell_type": "code",
   "execution_count": 120,
   "metadata": {},
   "outputs": [],
   "source": [
    "def converte_elementos_para_string(lista):\n",
    "    converte_string = lambda elemento: str(elemento)\n",
    "    return list(map(converte_string, lista))"
   ]
  },
  {
   "cell_type": "code",
   "execution_count": 121,
   "metadata": {},
   "outputs": [
    {
     "data": {
      "text/plain": [
       "1"
      ]
     },
     "execution_count": 121,
     "metadata": {},
     "output_type": "execute_result"
    }
   ],
   "source": [
    "# encontrando o elemento com o índice\n",
    "\n",
    "lista = [1, 2, 3, 4, 5, 6, 7, 8, 9, 10]\n",
    "\n",
    "lista[0] # começa no 0"
   ]
  },
  {
   "cell_type": "code",
   "execution_count": 122,
   "metadata": {},
   "outputs": [
    {
     "data": {
      "text/plain": [
       "5"
      ]
     },
     "execution_count": 122,
     "metadata": {},
     "output_type": "execute_result"
    }
   ],
   "source": [
    "lista[4]"
   ]
  },
  {
   "cell_type": "markdown",
   "metadata": {},
   "source": [
    "### É possível iterar tanto os índices quanto os itens de uma lista\n"
   ]
  },
  {
   "cell_type": "code",
   "execution_count": 123,
   "metadata": {},
   "outputs": [
    {
     "name": "stdout",
     "output_type": "stream",
     "text": [
      "1 2 3 4 5 6 7 8 9 10 "
     ]
    }
   ],
   "source": [
    "for i in range(len(lista)): print(lista[i], end = \" \") # iterando nos índices da lista"
   ]
  },
  {
   "cell_type": "code",
   "execution_count": 124,
   "metadata": {},
   "outputs": [
    {
     "name": "stdout",
     "output_type": "stream",
     "text": [
      "1 2 3 4 5 6 7 8 9 10 "
     ]
    }
   ],
   "source": [
    "for item in lista: print(item, end = \" \") # iterando nos itens da lista"
   ]
  },
  {
   "cell_type": "code",
   "execution_count": 125,
   "metadata": {},
   "outputs": [],
   "source": [
    "primeiro_numero = 3 # incluido\n",
    "segundo_numero = 7 # excluido"
   ]
  },
  {
   "cell_type": "markdown",
   "metadata": {},
   "source": [
    "### É possível indicar o fatiamento de strings, acessando seu índice e passando como parâmetros: \"parametro_de_comeco:parametro_de_parada:parametro_de_stride\", tal que o parâmetro de começo é inclusivo e o parâmetro de parada é exclusivo"
   ]
  },
  {
   "cell_type": "code",
   "execution_count": 126,
   "metadata": {},
   "outputs": [
    {
     "data": {
      "text/plain": [
       "[4, 5, 6, 7]"
      ]
     },
     "execution_count": 126,
     "metadata": {},
     "output_type": "execute_result"
    }
   ],
   "source": [
    "lista[primeiro_numero : segundo_numero] # pegue os elementos de indice 3 a 7, incluindo o elemento de indice 3 e excluindo o de indice 7"
   ]
  },
  {
   "cell_type": "markdown",
   "metadata": {},
   "source": [
    "### Se um dos parâmetros do fatiamento não for indicado, ele considera, respectivamente: posição de início, posição final, 1 (passo)"
   ]
  },
  {
   "cell_type": "code",
   "execution_count": 127,
   "metadata": {},
   "outputs": [
    {
     "data": {
      "text/plain": [
       "[1, 2, 3, 4, 5, 6, 7]"
      ]
     },
     "execution_count": 127,
     "metadata": {},
     "output_type": "execute_result"
    }
   ],
   "source": [
    "lista[:segundo_numero] # o começo não foi indicado, portanto o compilador considera desde o começo"
   ]
  },
  {
   "cell_type": "code",
   "execution_count": 128,
   "metadata": {},
   "outputs": [
    {
     "data": {
      "text/plain": [
       "[4, 5, 6, 7, 8, 9, 10]"
      ]
     },
     "execution_count": 128,
     "metadata": {},
     "output_type": "execute_result"
    }
   ],
   "source": [
    "lista[primeiro_numero:] # o final não foi indicado, portanto o compilador considera até o final"
   ]
  },
  {
   "cell_type": "markdown",
   "metadata": {},
   "source": [
    "### O parâmetro de stride não é obrigatório, portanto não é necessário utilizar [::]"
   ]
  },
  {
   "cell_type": "code",
   "execution_count": 129,
   "metadata": {},
   "outputs": [
    {
     "data": {
      "text/plain": [
       "[1, 2, 3, 4, 5, 6, 7, 8, 9, 10]"
      ]
     },
     "execution_count": 129,
     "metadata": {},
     "output_type": "execute_result"
    }
   ],
   "source": [
    "lista[::] # jeito alternativo mas desnecessário\n",
    "lista[:] # um bom jeito de fazer uma cópia da lista inteira"
   ]
  },
  {
   "cell_type": "code",
   "execution_count": 130,
   "metadata": {},
   "outputs": [
    {
     "data": {
      "text/plain": [
       "[1, 4, 7, 10]"
      ]
     },
     "execution_count": 130,
     "metadata": {},
     "output_type": "execute_result"
    }
   ],
   "source": [
    "lista[0::3] # o terceiro argumento representa o stride: o \"passo\" realizado a cada iteracao; ele referencia um número a cada 3 iterados\n"
   ]
  },
  {
   "cell_type": "code",
   "execution_count": 131,
   "metadata": {},
   "outputs": [
    {
     "data": {
      "text/plain": [
       "[10, 9, 8, 7, 6, 5, 4, 3, 2, 1]"
      ]
     },
     "execution_count": 131,
     "metadata": {},
     "output_type": "execute_result"
    }
   ],
   "source": [
    "lista[-1::-1] # o stride pode ser negativo"
   ]
  },
  {
   "cell_type": "markdown",
   "metadata": {},
   "source": [
    "### É útil utilizar o operador in em python, apesar de ser lento por verificar todas os elementos"
   ]
  },
  {
   "cell_type": "code",
   "execution_count": 132,
   "metadata": {},
   "outputs": [
    {
     "data": {
      "text/plain": [
       "True"
      ]
     },
     "execution_count": 132,
     "metadata": {},
     "output_type": "execute_result"
    }
   ],
   "source": [
    "1 in [1, 2, 3] # operador in"
   ]
  },
  {
   "cell_type": "code",
   "execution_count": 133,
   "metadata": {},
   "outputs": [
    {
     "data": {
      "text/plain": [
       "False"
      ]
     },
     "execution_count": 133,
     "metadata": {},
     "output_type": "execute_result"
    }
   ],
   "source": [
    "0 in [1, 2, 3] # analisa todos os elementos da lista"
   ]
  },
  {
   "cell_type": "markdown",
   "metadata": {},
   "source": [
    "### É possível concatenar listas utilizando o método extend, a concatenação por + e o operador de incremento"
   ]
  },
  {
   "cell_type": "code",
   "execution_count": 134,
   "metadata": {},
   "outputs": [
    {
     "data": {
      "text/plain": [
       "[1, 2, 3, 4, 5, 6]"
      ]
     },
     "execution_count": 134,
     "metadata": {},
     "output_type": "execute_result"
    }
   ],
   "source": [
    "x = [1, 2 ,3]\n",
    "x.extend([4, 5, 6]) # concatena listas\n",
    "x"
   ]
  },
  {
   "cell_type": "code",
   "execution_count": 135,
   "metadata": {},
   "outputs": [
    {
     "data": {
      "text/plain": [
       "[1, 2, 3, 4, 5, 6]"
      ]
     },
     "execution_count": 135,
     "metadata": {},
     "output_type": "execute_result"
    }
   ],
   "source": [
    "x = [1, 2, 3]\n",
    "y = x + [4, 5, 6] # concatencação com outra variável\n",
    "y"
   ]
  },
  {
   "cell_type": "code",
   "execution_count": 136,
   "metadata": {},
   "outputs": [
    {
     "data": {
      "text/plain": [
       "[1, 2, 3, 4, 5, 6]"
      ]
     },
     "execution_count": 136,
     "metadata": {},
     "output_type": "execute_result"
    }
   ],
   "source": [
    "x = [1, 2, 3]\n",
    "x += [4, 5, 6] # auto incremento\n",
    "x"
   ]
  },
  {
   "cell_type": "code",
   "execution_count": 137,
   "metadata": {},
   "outputs": [
    {
     "data": {
      "text/plain": [
       "[1, 2, 3, 0]"
      ]
     },
     "execution_count": 137,
     "metadata": {},
     "output_type": "execute_result"
    }
   ],
   "source": [
    "x = [1, 2, 3]\n",
    "x.append(0) # acrescentando um único item à lista\n",
    "x"
   ]
  },
  {
   "cell_type": "markdown",
   "metadata": {},
   "source": [
    "### É possível \"descompactar\" listas e tuplas, desde que você informe o número correto de variáveis"
   ]
  },
  {
   "cell_type": "code",
   "execution_count": 138,
   "metadata": {},
   "outputs": [
    {
     "data": {
      "text/plain": [
       "3"
      ]
     },
     "execution_count": 138,
     "metadata": {},
     "output_type": "execute_result"
    }
   ],
   "source": [
    "x = [1, 2]\n",
    "a, b = x # descompactação de listas\n",
    "a + b"
   ]
  },
  {
   "cell_type": "code",
   "execution_count": 139,
   "metadata": {},
   "outputs": [
    {
     "data": {
      "text/plain": [
       "9"
      ]
     },
     "execution_count": 139,
     "metadata": {},
     "output_type": "execute_result"
    }
   ],
   "source": [
    "x = (4, 5)\n",
    "a, b = x # descompactação de tuplas\n",
    "a + b"
   ]
  },
  {
   "cell_type": "code",
   "execution_count": 140,
   "metadata": {},
   "outputs": [
    {
     "data": {
      "text/plain": [
       "8"
      ]
     },
     "execution_count": 140,
     "metadata": {},
     "output_type": "execute_result"
    }
   ],
   "source": [
    "x = [7, 8]\n",
    "_, y = x # _ é utilizado como convenção para o valor que será descartado\n",
    "y"
   ]
  },
  {
   "cell_type": "markdown",
   "metadata": {},
   "source": [
    "## <b>Tuplas</b>"
   ]
  },
  {
   "cell_type": "markdown",
   "metadata": {},
   "source": [
    "### Diferentemente de listas, tuplas são imutáveis"
   ]
  },
  {
   "cell_type": "code",
   "execution_count": 141,
   "metadata": {},
   "outputs": [
    {
     "data": {
      "text/plain": [
       "[1, 3]"
      ]
     },
     "execution_count": 141,
     "metadata": {},
     "output_type": "execute_result"
    }
   ],
   "source": [
    "# Tuplas não podem ser modificadas\n",
    "\n",
    "lista = [1, 2]\n",
    "lista[1] = 3\n",
    "lista"
   ]
  },
  {
   "cell_type": "code",
   "execution_count": 142,
   "metadata": {},
   "outputs": [
    {
     "name": "stdout",
     "output_type": "stream",
     "text": [
      "tuplas não são modificáveis\n"
     ]
    }
   ],
   "source": [
    "tupla = (1, 2)\n",
    "try:\n",
    "    tupla[1] = 3\n",
    "except TypeError:\n",
    "    print(\"tuplas não são modificáveis\")"
   ]
  },
  {
   "cell_type": "code",
   "execution_count": 143,
   "metadata": {},
   "outputs": [
    {
     "name": "stdout",
     "output_type": "stream",
     "text": [
      "soma: 9\n",
      "produto: 20\n"
     ]
    }
   ],
   "source": [
    "# é útil utilizar tuplas para retorno de funções\n",
    "\n",
    "def soma_e_produto(a, b):\n",
    "    return (a + b), (a * b)\n",
    "\n",
    "soma, produto = soma_e_produto(4, 5) # desempacotamento de tuplas\n",
    "print(f\"soma: {soma}\\nproduto: {produto}\")"
   ]
  },
  {
   "cell_type": "markdown",
   "metadata": {},
   "source": [
    "### É possível utilizar tuplas (e listas) para atribuir simultaneamente duas ou mais variáveis, considerando os valores antes da atribuição propriamente dita"
   ]
  },
  {
   "cell_type": "code",
   "execution_count": 144,
   "metadata": {},
   "outputs": [
    {
     "name": "stdout",
     "output_type": "stream",
     "text": [
      "1 2\n",
      "2 1\n"
     ]
    }
   ],
   "source": [
    "# tuplas e listas podem ser utilizadas para atribuição multipla de variaveis\n",
    "\n",
    "x, y = 1, 2\n",
    "print(x, y)\n",
    "x, y = y, x # trocando y por x\n",
    "print(x, y)"
   ]
  },
  {
   "cell_type": "markdown",
   "metadata": {},
   "source": [
    "## <b>Dicionários</b>"
   ]
  },
  {
   "cell_type": "markdown",
   "metadata": {},
   "source": [
    "### Dicionários associam pares chave-valor e são muito úteis no contexto da ciência de dados\n"
   ]
  },
  {
   "cell_type": "code",
   "execution_count": 145,
   "metadata": {},
   "outputs": [],
   "source": [
    "# associa pares chave-valor\n",
    "\n",
    "dicionario_vazio = {}\n",
    "outro_dicionario_vazio = dict()\n",
    "notas = {\"Joao\" : 10, \"Alberto\" : 7}"
   ]
  },
  {
   "cell_type": "code",
   "execution_count": 146,
   "metadata": {},
   "outputs": [
    {
     "data": {
      "text/plain": [
       "10"
      ]
     },
     "execution_count": 146,
     "metadata": {},
     "output_type": "execute_result"
    }
   ],
   "source": [
    "# usa-se colchetes para achar o valor de uma variavel\n",
    "\n",
    "nota_joao = notas[\"Joao\"]\n",
    "nota_joao"
   ]
  },
  {
   "cell_type": "code",
   "execution_count": 147,
   "metadata": {},
   "outputs": [
    {
     "name": "stdout",
     "output_type": "stream",
     "text": [
      "Kate não está cadastrada\n"
     ]
    }
   ],
   "source": [
    "# acontece um KeyError caso a chave não exista\n",
    "aluna = \"Kate\"\n",
    "try:\n",
    "    nota_kate = notas[aluna]\n",
    "except KeyError:\n",
    "    print(f\"{aluna} não está cadastrada\")"
   ]
  },
  {
   "cell_type": "code",
   "execution_count": 148,
   "metadata": {},
   "outputs": [
    {
     "name": "stdout",
     "output_type": "stream",
     "text": [
      "False\n"
     ]
    }
   ],
   "source": [
    "# in pode verificar a existencia das chaves\n",
    "# a verificação de associação é rápida em dicionários\n",
    "\n",
    "print(\"Kate\" in notas)"
   ]
  },
  {
   "cell_type": "code",
   "execution_count": 149,
   "metadata": {},
   "outputs": [
    {
     "name": "stdout",
     "output_type": "stream",
     "text": [
      "True\n"
     ]
    }
   ],
   "source": [
    "print(\"Joao\" in notas)"
   ]
  },
  {
   "cell_type": "markdown",
   "metadata": {},
   "source": [
    "### Geralmente é preferível utilizar o método get() quando é possível receber uma chave que não consta no dicionário para evitar um erro"
   ]
  },
  {
   "cell_type": "code",
   "execution_count": 150,
   "metadata": {},
   "outputs": [
    {
     "name": "stdout",
     "output_type": "stream",
     "text": [
      "None\n",
      "0\n"
     ]
    }
   ],
   "source": [
    "# o método get retorna um valor definido ao invés de um erro caso a chave não exista\n",
    "\n",
    "print(notas.get(\"Kate\")) # retorna None por padrão\n",
    "print(notas.get(\"Kate\", 0)) # retorna o valor escolhido"
   ]
  },
  {
   "cell_type": "code",
   "execution_count": 151,
   "metadata": {},
   "outputs": [
    {
     "data": {
      "text/plain": [
       "8"
      ]
     },
     "execution_count": 151,
     "metadata": {},
     "output_type": "execute_result"
    }
   ],
   "source": [
    "# também é possível atribuir um par chave-valor usando colchetes\n",
    "notas[\"Kate\"] = 8\n",
    "notas[\"Kate\"]"
   ]
  },
  {
   "cell_type": "code",
   "execution_count": 152,
   "metadata": {},
   "outputs": [
    {
     "data": {
      "text/plain": [
       "3"
      ]
     },
     "execution_count": 152,
     "metadata": {},
     "output_type": "execute_result"
    }
   ],
   "source": [
    "len(notas) # verifica-se que kate foi adicionada no dicionario"
   ]
  },
  {
   "cell_type": "markdown",
   "metadata": {},
   "source": [
    "### Nesse exemplo, um tweet é um dicionário com informações"
   ]
  },
  {
   "cell_type": "code",
   "execution_count": 153,
   "metadata": {},
   "outputs": [],
   "source": [
    "tweet = {\n",
    "    \"user\" : \"Thiago\",\n",
    "    \"texto\" : \"Data Science é incrível\",\n",
    "    \"contagem_de_retweets\" : 100,\n",
    "    \"hashtags\" : [\"datascience\", \"python\", \"jupyter\"]\n",
    "}"
   ]
  },
  {
   "cell_type": "code",
   "execution_count": 154,
   "metadata": {},
   "outputs": [],
   "source": [
    "tweet_keys = tweet.keys() # iteravel das chaves do dicionario\n",
    "tweet_values = tweet.values() # iteravel dos valores do dicionario\n",
    "tweet_items = tweet.items() # iteravel dos items do dicionario em tuplas (chave, valor)"
   ]
  },
  {
   "cell_type": "code",
   "execution_count": 155,
   "metadata": {},
   "outputs": [
    {
     "name": "stdout",
     "output_type": "stream",
     "text": [
      "True\n",
      "True\n",
      "True\n"
     ]
    }
   ],
   "source": [
    "print(\"user\" in tweet_keys) # funciona, mas não é o melhor jeito\n",
    "print(\"user\" in tweet) # melhor jeito\n",
    "print(\"Thiago\" in tweet_values) # lento, mas é o único jeito de verificar"
   ]
  },
  {
   "cell_type": "markdown",
   "metadata": {},
   "source": [
    "### As chaves de um dicionário precisam ser hashable, ou seja, imutáveis; portanto listas não podem ser chaves. Para chaves com diversas partes, usa-se tuplas"
   ]
  },
  {
   "cell_type": "markdown",
   "metadata": {},
   "source": [
    "## <b>defaultdict</b>"
   ]
  },
  {
   "cell_type": "markdown",
   "metadata": {},
   "source": [
    "### Caso seja preciso contar palavras em um documento, por exemplo, podem-se seguir alguns approachs diferentes. Por exemplo, pode-se fazer uma simples iteracao sobre o objeto:"
   ]
  },
  {
   "cell_type": "code",
   "execution_count": 156,
   "metadata": {},
   "outputs": [
    {
     "data": {
      "text/plain": [
       "{'palavra1': 7, 'palavra2': 3, 'palavra3': 4}"
      ]
     },
     "execution_count": 156,
     "metadata": {},
     "output_type": "execute_result"
    }
   ],
   "source": [
    "document = [\"palavra1\",\n",
    "            \"palavra2\",\n",
    "            \"palavra3\",\n",
    "            \"palavra1\",\n",
    "            \"palavra2\",\n",
    "            \"palavra3\",\n",
    "            \"palavra1\",\n",
    "            \"palavra2\",\n",
    "            \"palavra3\",\n",
    "            \"palavra1\",\n",
    "            \"palavra3\",\n",
    "            \"palavra1\",\n",
    "            \"palavra1\",\n",
    "            \"palavra1\"]\n",
    "\n",
    "word_counts = {}\n",
    "\n",
    "for word in document:\n",
    "    if word in word_counts: word_counts[word] += 1\n",
    "    else: word_counts[word] = 1\n",
    "\n",
    "word_counts"
   ]
  },
  {
   "cell_type": "markdown",
   "metadata": {},
   "source": [
    "### Também é possível analisar esse texto com um bloco try/catch"
   ]
  },
  {
   "cell_type": "code",
   "execution_count": 157,
   "metadata": {},
   "outputs": [
    {
     "data": {
      "text/plain": [
       "{'palavra1': 7, 'palavra2': 3, 'palavra3': 4}"
      ]
     },
     "execution_count": 157,
     "metadata": {},
     "output_type": "execute_result"
    }
   ],
   "source": [
    "word_counts = {}\n",
    "\n",
    "for word in document:\n",
    "    try: word_counts[word] += 1\n",
    "    except KeyError: word_counts[word] = 1\n",
    "\n",
    "word_counts"
   ]
  },
  {
   "cell_type": "markdown",
   "metadata": {},
   "source": [
    "### Uma terceira solução seria utilizando get, que trata facilmente as chaves faltantes:"
   ]
  },
  {
   "cell_type": "code",
   "execution_count": 158,
   "metadata": {},
   "outputs": [
    {
     "data": {
      "text/plain": [
       "{'palavra1': 7, 'palavra2': 3, 'palavra3': 4}"
      ]
     },
     "execution_count": 158,
     "metadata": {},
     "output_type": "execute_result"
    }
   ],
   "source": [
    "word_counts = {}\n",
    "\n",
    "for word in document:\n",
    "    contador_anterior = word_counts.get(word, 0) # passa o valor default 0 caso não exista ainda a palavra no dicionário, conta quantas vezes já apareceu e adiciona um\n",
    "    word_counts[word] = contador_anterior + 1\n",
    "\n",
    "word_counts"
   ]
  },
  {
   "cell_type": "markdown",
   "metadata": {},
   "source": [
    "### Um defaultdict é útil nesse caso, visto que, quando você tenta acessar uma chave que ainda não existe no dicionário, ele cria um valor default utilizando a função que você deu a ele como argumento"
   ]
  },
  {
   "cell_type": "code",
   "execution_count": 159,
   "metadata": {},
   "outputs": [
    {
     "data": {
      "text/plain": [
       "defaultdict(int, {'palavra1': 7, 'palavra2': 3, 'palavra3': 4})"
      ]
     },
     "execution_count": 159,
     "metadata": {},
     "output_type": "execute_result"
    }
   ],
   "source": [
    "from collections import defaultdict\n",
    "\n",
    "word_counts = defaultdict(int) # int() cria o valor default 0\n",
    "\n",
    "for word in document:\n",
    "    word_counts[word] += 1\n",
    "\n",
    "word_counts\n"
   ]
  },
  {
   "cell_type": "markdown",
   "metadata": {},
   "source": [
    "### Também podem ser criados utilizando list ou dict, ou até funções customizadas"
   ]
  },
  {
   "cell_type": "code",
   "execution_count": 160,
   "metadata": {},
   "outputs": [
    {
     "name": "stdout",
     "output_type": "stream",
     "text": [
      "defaultdict(<class 'list'>, {2: [1]})\n",
      "defaultdict(<class 'dict'>, {'Joel': {'Cidade': 'Seattle'}})\n",
      "defaultdict(<function <lambda> at 0x000001BE50A57A60>, {2: [2, 1]})\n"
     ]
    }
   ],
   "source": [
    "dd_lista = defaultdict(list)\n",
    "dd_lista[2].append(1) # na chave 2 (que ainda não existe) dou append no valor default dela (list) com o valor 1\n",
    "print(dd_lista)\n",
    "\n",
    "dd_dict = defaultdict(dict)\n",
    "dd_dict[\"Joel\"][\"Cidade\"] = \"Seattle\" # no nome Joel, cria uma chave chamada cidade e atribui o valor seattle à ela\n",
    "print(dd_dict)\n",
    "\n",
    "dd_pair = defaultdict(lambda: [0, 0]) # uma função que contém um par 0, 0 por padrão\n",
    "dd_pair[2][0], dd_pair[2][1] = (2, 1) # utiliza desempacotamento de tuplas para alterar ambos os valores\n",
    "print(dd_pair)"
   ]
  },
  {
   "cell_type": "markdown",
   "metadata": {},
   "source": [
    "## <b>Counters</b>"
   ]
  },
  {
   "cell_type": "markdown",
   "metadata": {},
   "source": [
    "### Um contador retorna uma sequência de valores, num objeto defaultdict(int)-like mapeando as chaves com suas quantidades"
   ]
  },
  {
   "cell_type": "code",
   "execution_count": 161,
   "metadata": {},
   "outputs": [
    {
     "data": {
      "text/plain": [
       "Counter({0: 2, 1: 1, 2: 1})"
      ]
     },
     "execution_count": 161,
     "metadata": {},
     "output_type": "execute_result"
    }
   ],
   "source": [
    "from collections import Counter\n",
    "\n",
    "c = Counter([0, 1, 2, 0]) # retorna {0: 2, 1: 1, 2: 1}, algo muito parecido com um defaultdict(int)\n",
    "c"
   ]
  },
  {
   "cell_type": "markdown",
   "metadata": {},
   "source": [
    "### Isso nos dá uma forma bem simple de resolver o problema do word_counts"
   ]
  },
  {
   "cell_type": "code",
   "execution_count": 162,
   "metadata": {},
   "outputs": [
    {
     "data": {
      "text/plain": [
       "Counter({'palavra1': 7, 'palavra3': 4, 'palavra2': 3})"
      ]
     },
     "execution_count": 162,
     "metadata": {},
     "output_type": "execute_result"
    }
   ],
   "source": [
    "word_counts = Counter(document)\n",
    "word_counts"
   ]
  },
  {
   "cell_type": "markdown",
   "metadata": {},
   "source": [
    "### Um contador também possui o método .most_common() que é muito útil"
   ]
  },
  {
   "cell_type": "code",
   "execution_count": 163,
   "metadata": {},
   "outputs": [
    {
     "data": {
      "text/plain": [
       "[('palavra1', 7)]"
      ]
     },
     "execution_count": 163,
     "metadata": {},
     "output_type": "execute_result"
    }
   ],
   "source": [
    "word_counts.most_common(1)"
   ]
  },
  {
   "cell_type": "markdown",
   "metadata": {},
   "source": [
    "## <b>Sets</b>"
   ]
  },
  {
   "cell_type": "markdown",
   "metadata": {},
   "source": [
    "### Outra estrutura de dados útil são os sets (conjuntos), que representam coleções de elementos distintos. Você pode definir um set utilizando {elementos}; porém, para um set vazio, deve-se usar set(), visto que {} já é utilizado para dict"
   ]
  },
  {
   "cell_type": "code",
   "execution_count": 164,
   "metadata": {},
   "outputs": [
    {
     "data": {
      "text/plain": [
       "{1, 2, 3, 4}"
      ]
     },
     "execution_count": 164,
     "metadata": {},
     "output_type": "execute_result"
    }
   ],
   "source": [
    "conjunto = {1, 2, 3, 4, 2}\n",
    "conjunto # um set naturalmente remove duplicatas"
   ]
  },
  {
   "cell_type": "code",
   "execution_count": 165,
   "metadata": {},
   "outputs": [
    {
     "data": {
      "text/plain": [
       "False"
      ]
     },
     "execution_count": 165,
     "metadata": {},
     "output_type": "execute_result"
    }
   ],
   "source": [
    "s = set()\n",
    "s.add(1) # o set agora é {1}\n",
    "s.add(2) # o set agora é {1, 2}\n",
    "s.add(2) # o set ainda é {1, 2}\n",
    "len(s) # 2 \n",
    "3 in s # falso "
   ]
  },
  {
   "cell_type": "markdown",
   "metadata": {},
   "source": [
    "### Sets são úteis por duas razões. Uma delas é que o operador \"in\" é muito rápido nessa estrutura de dados."
   ]
  },
  {
   "cell_type": "code",
   "execution_count": 166,
   "metadata": {},
   "outputs": [
    {
     "name": "stdout",
     "output_type": "stream",
     "text": [
      "False\n",
      "False\n"
     ]
    }
   ],
   "source": [
    "centenas_de_outras_palavras = []\n",
    "lista_palavras = [\"a\", \"an\", \"at\"] + centenas_de_outras_palavras + [\"yet\", \"you\"]\n",
    "print(\"zip\" in lista_palavras) # Retorna falso, mas precisa checar todas as palavras\n",
    "\n",
    "conjunto_palavras = set(lista_palavras)\n",
    "print(\"zip\" in conjunto_palavras) # Checagem bem mais rápida"
   ]
  },
  {
   "cell_type": "markdown",
   "metadata": {},
   "source": [
    "### A segunda razão é encontrar os elementos distintos em uma collection"
   ]
  },
  {
   "cell_type": "code",
   "execution_count": 167,
   "metadata": {},
   "outputs": [
    {
     "data": {
      "text/plain": [
       "[1, 2, 3]"
      ]
     },
     "execution_count": 167,
     "metadata": {},
     "output_type": "execute_result"
    }
   ],
   "source": [
    "lista = [1, 2, 3, 1, 2, 3]\n",
    "len(lista) # 6\n",
    "\n",
    "conjunto = set(lista) # {1, 2, 3}\n",
    "len(conjunto) # 3\n",
    "\n",
    "lista_distinta = list(conjunto) # [1, 2, 3]\n",
    "lista_distinta"
   ]
  },
  {
   "cell_type": "markdown",
   "metadata": {},
   "source": [
    "## <b>Controle de fluxo</b>"
   ]
  },
  {
   "cell_type": "markdown",
   "metadata": {},
   "source": [
    "### Como na maioria das linguagens de programação, é possível fazer uma ação condicional utilizando if/else"
   ]
  },
  {
   "cell_type": "code",
   "execution_count": 168,
   "metadata": {},
   "outputs": [],
   "source": [
    "if 1 > 2:\n",
    "    mensagem = \"se 1 fosse maior que 2\"\n",
    "elif 1 > 3:\n",
    "    mensagem = \"elif significa else if\"\n",
    "else: \n",
    "    mensagem = \"utilize else quando todos os outros casos falharem (se for necessário)\"\n"
   ]
  },
  {
   "cell_type": "markdown",
   "metadata": {},
   "source": [
    "### Também é possível utilizar um operador ternário em uma linha"
   ]
  },
  {
   "cell_type": "code",
   "execution_count": 169,
   "metadata": {},
   "outputs": [
    {
     "data": {
      "text/plain": [
       "'ímpar'"
      ]
     },
     "execution_count": 169,
     "metadata": {},
     "output_type": "execute_result"
    }
   ],
   "source": [
    "paridade = lambda x: \"par\" if x % 2 == 0 else \"ímpar\"\n",
    "paridade(3)"
   ]
  },
  {
   "cell_type": "markdown",
   "metadata": {},
   "source": [
    "### Python também possui loop while"
   ]
  },
  {
   "cell_type": "code",
   "execution_count": 170,
   "metadata": {},
   "outputs": [
    {
     "name": "stdout",
     "output_type": "stream",
     "text": [
      "0 é menor que 10\n",
      "1 é menor que 10\n",
      "2 é menor que 10\n",
      "3 é menor que 10\n",
      "4 é menor que 10\n",
      "5 é menor que 10\n",
      "6 é menor que 10\n",
      "7 é menor que 10\n",
      "8 é menor que 10\n",
      "9 é menor que 10\n"
     ]
    }
   ],
   "source": [
    "x = 0\n",
    "\n",
    "while x < 10:\n",
    "    print(f\"{x} é menor que 10\")\n",
    "    x += 1"
   ]
  },
  {
   "cell_type": "markdown",
   "metadata": {},
   "source": [
    "### Apesar que vamos utilizar mais frequentemente a estrutura de loop for e o operador in"
   ]
  },
  {
   "cell_type": "code",
   "execution_count": 171,
   "metadata": {},
   "outputs": [
    {
     "name": "stdout",
     "output_type": "stream",
     "text": [
      "0 é menor que 10\n",
      "1 é menor que 10\n",
      "2 é menor que 10\n",
      "3 é menor que 10\n",
      "4 é menor que 10\n",
      "5 é menor que 10\n",
      "6 é menor que 10\n",
      "7 é menor que 10\n",
      "8 é menor que 10\n",
      "9 é menor que 10\n"
     ]
    }
   ],
   "source": [
    "# range(10) são os números 0, 1, 2 ..., 9\n",
    "\n",
    "for x in range(10):\n",
    "    print(f\"{x} é menor que 10\")"
   ]
  },
  {
   "cell_type": "markdown",
   "metadata": {},
   "source": [
    "### Se for necessária lógica mais complexa, pode-se utilizar os operadores continue e break"
   ]
  },
  {
   "cell_type": "code",
   "execution_count": 172,
   "metadata": {},
   "outputs": [
    {
     "name": "stdout",
     "output_type": "stream",
     "text": [
      "0\n",
      "1\n",
      "2\n",
      "4\n"
     ]
    }
   ],
   "source": [
    "for x in range(10):\n",
    "    if x == 3: continue\n",
    "    if x == 5: break\n",
    "    print(x) # ignora o 3 e para na iteração cujo x vale 5"
   ]
  },
  {
   "cell_type": "markdown",
   "metadata": {},
   "source": [
    "## <b>Veracidade</b>"
   ]
  },
  {
   "cell_type": "markdown",
   "metadata": {},
   "source": [
    "### Booleanos, em python, funcionam como na maioria das outras linguagens de programação, exceto pelo fato de eles serem capitalizados"
   ]
  },
  {
   "cell_type": "code",
   "execution_count": 173,
   "metadata": {},
   "outputs": [],
   "source": [
    "um_e_menor_que_dois = 1 < 2 # retorna True\n",
    "verdadeiro_e_igual_a_falso = True == False # retorna False"
   ]
  },
  {
   "cell_type": "markdown",
   "metadata": {},
   "source": [
    "### Python utiliza None para indicar um valor não existente, similar ao null de outras linguagens"
   ]
  },
  {
   "cell_type": "code",
   "execution_count": 174,
   "metadata": {},
   "outputs": [],
   "source": [
    "x = None\n",
    "assert x == None\n",
    "assert x is None # de acordo com a norma; ## assert retornaria um erro caso o valor após ele fosse falso"
   ]
  },
  {
   "cell_type": "markdown",
   "metadata": {},
   "source": [
    "### Python te deixa utilizar qualquer valor quando espera um booleano. Todos os valores a seguir retornam falso:\n",
    "- #### False\n",
    "- #### None\n",
    "- #### [] (lista vazia)\n",
    "- #### {} (dicionário vazio) \n",
    "- #### \"\"\n",
    "- #### set()\n",
    "- #### 0\n",
    "- #### 0.0\n"
   ]
  },
  {
   "cell_type": "markdown",
   "metadata": {},
   "source": [
    "### Praticamente qualquer outra coisa é tratada como True. Isso te permite utilizar facilmente if statments pra testar listas vazias, strings vazias, dicionários vazios e etc. Também causa bugs complexos, se você não estivesse esperando esse comportamento."
   ]
  },
  {
   "cell_type": "code",
   "execution_count": 175,
   "metadata": {},
   "outputs": [],
   "source": [
    "def uma_funcao_que_retorna_uma_string():\n",
    "    return \"\"\n",
    "\n",
    "s = uma_funcao_que_retorna_uma_string()\n",
    "\n",
    "if s: primeiro_char = s[0]\n",
    "else: primeiro_char = \"\"\n",
    "assert \"\" == primeiro_char"
   ]
  },
  {
   "cell_type": "markdown",
   "metadata": {},
   "source": [
    "### Uma outra maneira, provavelmente mais confusa, de realizar essa mesma operação é:"
   ]
  },
  {
   "cell_type": "code",
   "execution_count": 176,
   "metadata": {},
   "outputs": [
    {
     "data": {
      "text/plain": [
       "2"
      ]
     },
     "execution_count": 176,
     "metadata": {},
     "output_type": "execute_result"
    }
   ],
   "source": [
    "primeiro_char = s and s[0]\n",
    "assert primeiro_char == \"\" \n",
    "\n",
    "teste = 1 and 2 # Esse comportamento é devido a estrutura lógica do operador and e do jeito que ele foi implementado em python.\n",
    "teste # o operador and retorna o primeiro valor caso ele seja falso e retorna o segundo valor caso o primeiro seja verdadeiro, esse comportamento funciona para a tabela verdade and."
   ]
  },
  {
   "cell_type": "markdown",
   "metadata": {},
   "source": [
    "### Trazendo os testes para outra célula"
   ]
  },
  {
   "cell_type": "code",
   "execution_count": 177,
   "metadata": {},
   "outputs": [
    {
     "name": "stdout",
     "output_type": "stream",
     "text": [
      "True\n",
      "False\n",
      "False\n",
      "False\n"
     ]
    }
   ],
   "source": [
    "print(True and True) # o primeiro é True, portanto retorna o segundo (True)\n",
    "print(True and False) # o primeiro é True, portanto retorna o segundo (False)\n",
    "print(False and True) # o primeiro é False, portanto retorna o primeiro (False)\n",
    "print(False and False) # o primeiro é False, portanto retorna o primeiro (False)"
   ]
  },
  {
   "cell_type": "markdown",
   "metadata": {},
   "source": [
    "### O comportamento do operador \"and\" é o seguinte: caso o primeiro valor seja interpretado como falso, retorna o primeiro valor; caso o primeiro valor seja interpretado como verdadeiro, retorna o segundo valor."
   ]
  },
  {
   "cell_type": "code",
   "execution_count": 178,
   "metadata": {},
   "outputs": [
    {
     "name": "stdout",
     "output_type": "stream",
     "text": [
      "\n",
      "[]\n",
      "{}\n",
      "set()\n",
      "0\n",
      "0.0\n",
      "None\n"
     ]
    }
   ],
   "source": [
    "print(\"\" and []) # o primeiro é interpretado como False, portanto retorna o primeiro (\"\")\n",
    "print([] and 3 > 4) # o primeiro é interpretado como False, portanto retorna o primeiro ([])\n",
    "print({} and 3 > 6) # o primeiro é interpretado como False, portanto retorna o primeiro ({})\n",
    "print(set() and 2 > 4) # o primeiro é interpretado como False, portanto retorna o primeiro (set())\n",
    "print(0 and []) # o primeiro é interpretado como False, portanto retorna o primeiro (0)\n",
    "print(0.0 and False) # o primeiro é interpretado como False, portanto retorna o primeiro (0.0)\n",
    "print(None and True) # o primeiro é interpretado como False, portanto retorna o primeiro (None)"
   ]
  },
  {
   "cell_type": "markdown",
   "metadata": {},
   "source": [
    "### Nesse contexto, ser interpretado como falso não é a mesma coisa que ser False, portanto o operandor \"and\" retorna o próprio objeto que é interpretado como falso caso o primeiro operador seja interpretado como falso."
   ]
  },
  {
   "cell_type": "code",
   "execution_count": 179,
   "metadata": {},
   "outputs": [
    {
     "name": "stdout",
     "output_type": "stream",
     "text": [
      "True\n",
      "True\n",
      "True\n",
      "False\n"
     ]
    }
   ],
   "source": [
    "print(True or True) # o primeiro é True, portanto retorna o primeiro (True)\n",
    "print(True or False) # o primeiro é True, portanto retorna o primeiro (True)\n",
    "print(False or True) # o primeiro é False, portanto retorna o segundo (True)\n",
    "print(False or False) # o primeiro é False, portanto retorna o segundo (False)"
   ]
  },
  {
   "cell_type": "markdown",
   "metadata": {},
   "source": [
    "### O comportamento do operador \"or\" em python é, essencialmente, o \"oposto\" do operador and, visto que ele retorna o segundo valor caso o primeiro seja interpretado como falso e, por consequência, retorna o primeiro valor caso o mesmo seja interpretado como verdadeiro. "
   ]
  },
  {
   "cell_type": "code",
   "execution_count": 180,
   "metadata": {},
   "outputs": [
    {
     "name": "stdout",
     "output_type": "stream",
     "text": [
      "\n",
      "[]\n",
      "{}\n",
      "set()\n",
      "0\n",
      "0.0\n",
      "None\n"
     ]
    }
   ],
   "source": [
    "print(False or \"\") # o primeiro é interpretado como False, portanto retorna o segundo (\"\")\n",
    "print(3 < 2 or []) # o primeiro é interpretado como False, portanto retorna o segundo ([])\n",
    "print(4 > 5 or {}) # o primeiro é interpretado como False, portanto retorna o segundo ({})\n",
    "print(True == False or set()) # o primeiro é interpretado como False, portanto retorna o segundo (set())\n",
    "print(None or 0) # o primeiro é interpretado como False, portanto retorna o segundo (0)\n",
    "print(3 in [] or 0.0) # o primeiro é interpretado como False, portanto retorna o segundo (0.0)\n",
    "print(3 % 2 == 0 or None) # o primeiro é interpretado como False, portanto retorna o segundo (None)"
   ]
  },
  {
   "cell_type": "markdown",
   "metadata": {},
   "source": [
    "### A principal consequência do python interpretar os objetos como booleanos é a causa de bugs inesperados caso você não esteja ciente desse comportamento."
   ]
  },
  {
   "cell_type": "code",
   "execution_count": 181,
   "metadata": {},
   "outputs": [
    {
     "data": {
      "text/plain": [
       "0"
      ]
     },
     "execution_count": 181,
     "metadata": {},
     "output_type": "execute_result"
    }
   ],
   "source": [
    "x = None\n",
    "x_seguro = x or 0\n",
    "x_seguro"
   ]
  },
  {
   "cell_type": "markdown",
   "metadata": {},
   "source": [
    "### Nesse caso, verifica-se o primeiro valor é falso e, caso seja, retorna o segundo. Como \"None\" é interpretado como falso, pode ser útil para conferir a nulidade de x"
   ]
  },
  {
   "cell_type": "code",
   "execution_count": 182,
   "metadata": {},
   "outputs": [
    {
     "data": {
      "text/plain": [
       "3"
      ]
     },
     "execution_count": 182,
     "metadata": {},
     "output_type": "execute_result"
    }
   ],
   "source": [
    "x = 3\n",
    "x_seguro = x or 0\n",
    "x_seguro"
   ]
  },
  {
   "cell_type": "markdown",
   "metadata": {},
   "source": [
    "### Provavelmente é mais legível utilizar um operador ternário para verificação:"
   ]
  },
  {
   "cell_type": "code",
   "execution_count": 183,
   "metadata": {},
   "outputs": [
    {
     "data": {
      "text/plain": [
       "0"
      ]
     },
     "execution_count": 183,
     "metadata": {},
     "output_type": "execute_result"
    }
   ],
   "source": [
    "x = None\n",
    "x_seguro = x if x is not None else 0\n",
    "x_seguro"
   ]
  },
  {
   "cell_type": "markdown",
   "metadata": {},
   "source": [
    "### Python possui uma função all(), que retorna verdadeiro quando nenhum dos elementos do iterável passado como parâmetro é falso e uma função any() que retorna verdadeiro quando pelo menos um elemento do iterável passado como parâmetro é verdadeiro"
   ]
  },
  {
   "cell_type": "code",
   "execution_count": 184,
   "metadata": {},
   "outputs": [
    {
     "name": "stdout",
     "output_type": "stream",
     "text": [
      "True\n",
      "False\n",
      "True\n",
      "True\n",
      "False\n"
     ]
    }
   ],
   "source": [
    "print(all([True, 1, {3}])) # True, nenhum elemento é interpretado como falso\n",
    "print(all([True, 1, {}])) # False, {} é interpretado como falso\n",
    "print(any([True, 0, {}])) # True, pois True é interpretado como verdadeiro\n",
    "print(all([])) # True, não existe nenhum elemento interpretado como falso\n",
    "print(any([])) # False, não existe nenhum elemento interpretado como verdadeiro\n"
   ]
  },
  {
   "cell_type": "markdown",
   "metadata": {},
   "source": [
    "## <b>Ordenação</b>"
   ]
  },
  {
   "cell_type": "markdown",
   "metadata": {},
   "source": [
    "### Toda lista em python tem um método sort() quer a ordena. Se não for interessante mexer na ordem da lista original, é possível utilizar o método sorted() que retorna uma cópia ordenada da lista, basicamente comparando os elementos uns com os outros (uma forma não tão rápida mas aplicável em um contexto geral)"
   ]
  },
  {
   "cell_type": "code",
   "execution_count": 185,
   "metadata": {},
   "outputs": [
    {
     "name": "stdout",
     "output_type": "stream",
     "text": [
      "assert não funciona em -assert y is x- pois y está em um endereço de memória diferente de x\n"
     ]
    }
   ],
   "source": [
    "x = [4, 1, 3, 2]\n",
    "y = sorted(x)\n",
    "x.sort()\n",
    "try: \n",
    "    assert y is x # não funciona\n",
    "except AssertionError:\n",
    "    assert y == x # funciona\n",
    "    print(\"assert não funciona em -assert y is x- pois y está em um endereço de memória diferente de x\")\n"
   ]
  },
  {
   "cell_type": "markdown",
   "metadata": {},
   "source": [
    "### Se você quiser utilizar a forma descendente de ordenação, é possível utilizar o parâmetro reverse=True; além disso, ao invés de comparar os elementos propriamente ditos, você pode utilizar uma função que os filtra no parâmetro \"key\""
   ]
  },
  {
   "cell_type": "code",
   "execution_count": 186,
   "metadata": {},
   "outputs": [
    {
     "data": {
      "text/plain": [
       "[-4, 3, -2, 1]"
      ]
     },
     "execution_count": 186,
     "metadata": {},
     "output_type": "execute_result"
    }
   ],
   "source": [
    "x = sorted([-4, 1, -2, 3], key=abs, reverse=True)\n",
    "x # retorna [-4, 3, -2, 1], pois foi ordenada com o valor absoluto dos elementos"
   ]
  },
  {
   "cell_type": "markdown",
   "metadata": {},
   "source": [
    "### Dessa maneira é possível ordenar elementos compostos, por exemplo:"
   ]
  },
  {
   "cell_type": "code",
   "execution_count": 187,
   "metadata": {},
   "outputs": [
    {
     "name": "stdout",
     "output_type": "stream",
     "text": [
      "{'palavra1': 7, 'palavra2': 3, 'palavra3': 4}\n",
      "[('palavra1', 7), ('palavra3', 4), ('palavra2', 3)]\n"
     ]
    }
   ],
   "source": [
    "from collections import Counter\n",
    "document = [\"palavra1\",\n",
    "            \"palavra2\",\n",
    "            \"palavra3\",\n",
    "            \"palavra1\",\n",
    "            \"palavra2\",\n",
    "            \"palavra3\",\n",
    "            \"palavra1\",\n",
    "            \"palavra2\",\n",
    "            \"palavra3\",\n",
    "            \"palavra1\",\n",
    "            \"palavra3\",\n",
    "            \"palavra1\",\n",
    "            \"palavra1\",\n",
    "            \"palavra1\"]\n",
    "\n",
    "quantidade_de_palavras = dict(Counter(document))\n",
    "\n",
    "# quantidade_de_palavras_ordenada = sorted(quantidade_de_palavras, key = lambda x: quantidade_de_palavras[x], reverse=True)\n",
    "quantidade_de_palavras_ordenada = sorted(quantidade_de_palavras.items(), key = lambda x: x[1], reverse=True) # .items() é mais viável, pois trabalha com os itens do dicionário\n",
    "print(quantidade_de_palavras)\n",
    "print(quantidade_de_palavras_ordenada)\n"
   ]
  },
  {
   "cell_type": "markdown",
   "metadata": {},
   "source": [
    "## <b>List Comprehensions</b>"
   ]
  },
  {
   "cell_type": "markdown",
   "metadata": {},
   "source": [
    "### Frequentemente se quer transformar um iterável em outro, utilizando algum tipo de transformação no processo. Isso pode ser realizado por meio de list comprehensions."
   ]
  },
  {
   "cell_type": "code",
   "execution_count": 188,
   "metadata": {},
   "outputs": [
    {
     "name": "stdout",
     "output_type": "stream",
     "text": [
      "[0, 2, 4]\n",
      "[1, 3, 5]\n",
      "[0, 1, 4, 9, 16, 25]\n",
      "[0, 4, 16]\n",
      "[1, 9, 25]\n"
     ]
    }
   ],
   "source": [
    "numeros_pares = [x for x in range(6) if x % 2 == 0]\n",
    "numeros_impares = [x for x in range(6) if x % 2 !=0]\n",
    "quadrados = [x * x for x in range(6)]\n",
    "quadrados_pares = [x * x for x in numeros_pares]\n",
    "quadrados_impares = [x * x for x in numeros_impares]\n",
    "\n",
    "print(numeros_pares)\n",
    "print(numeros_impares)\n",
    "print(quadrados)\n",
    "print(quadrados_pares)\n",
    "print(quadrados_impares)"
   ]
  },
  {
   "cell_type": "markdown",
   "metadata": {},
   "source": [
    "### De forma similar, é possível transformar listas em dicionários:"
   ]
  },
  {
   "cell_type": "code",
   "execution_count": 189,
   "metadata": {},
   "outputs": [
    {
     "name": "stdout",
     "output_type": "stream",
     "text": [
      "{0: 0, 1: 1, 2: 4, 3: 9, 4: 16, 5: 25}\n",
      "{1}\n"
     ]
    }
   ],
   "source": [
    "dicionario_quadrados = {x: x*x for x in range(6)}\n",
    "print(dicionario_quadrados)\n",
    "\n",
    "conjunto_quadrados = {x*x for x in [-1, 1]}\n",
    "print(conjunto_quadrados) # a estrutura de dados set utiliza apenas os valores distintos e, como ambos os resultados são 1, o resultado é {1}"
   ]
  },
  {
   "cell_type": "markdown",
   "metadata": {},
   "source": [
    "### Se você não precisa do valor da lista, é comum utilizar uma underline para descartá-lo"
   ]
  },
  {
   "cell_type": "code",
   "execution_count": 190,
   "metadata": {},
   "outputs": [
    {
     "name": "stdout",
     "output_type": "stream",
     "text": [
      "[0, 0, 0]\n"
     ]
    }
   ],
   "source": [
    "zeros = [0 for _ in numeros_pares] # possui o mesmo tamanho de numeros_pares\n",
    "print(zeros)"
   ]
  },
  {
   "cell_type": "markdown",
   "metadata": {},
   "source": [
    "### Uma list comprehension pode conter múltiplos fors:"
   ]
  },
  {
   "cell_type": "code",
   "execution_count": 191,
   "metadata": {},
   "outputs": [],
   "source": [
    "pares = [(x, y)\n",
    "         for x in range(10)\n",
    "         for y in range(10)\n",
    "] # retorna 100 pares, (0,0), (0,1), ..., (9,8), (9,9)"
   ]
  },
  {
   "cell_type": "markdown",
   "metadata": {},
   "source": [
    "### Um for posterior pode utilizar os resultados de um for anterior"
   ]
  },
  {
   "cell_type": "code",
   "execution_count": 192,
   "metadata": {},
   "outputs": [
    {
     "name": "stdout",
     "output_type": "stream",
     "text": [
      "[(0, 0), (0, 1), (0, 2), (0, 3), (0, 4), (0, 5), (0, 6), (0, 7), (0, 8), (0, 9), (1, 3), (1, 4), (1, 5), (1, 6), (1, 7), (1, 8), (1, 9), (2, 6), (2, 7), (2, 8), (2, 9), (3, 9)]\n"
     ]
    }
   ],
   "source": [
    "pares_incrementados = [(x, y)\n",
    "                       for x in range(10)\n",
    "                       for y in range(x * 3, 10)]\n",
    "\n",
    "print(pares_incrementados)"
   ]
  },
  {
   "cell_type": "markdown",
   "metadata": {},
   "source": [
    "## <b>Testes automatizados e assert</b>"
   ]
  },
  {
   "cell_type": "markdown",
   "metadata": {},
   "source": [
    "### Como cientistas de dados, devemos estar confiantes que nosso código está correto. Uma maneira de ter certeza é com tipos e outra é com testes automatizados. Mesmo com muitos frameworks disponíveis para esse contexto, utilizaremos exclusivamente o assert para essa função. Asserts vão lançar um AssertionError se a condição especificada não for verdadeira."
   ]
  },
  {
   "cell_type": "code",
   "execution_count": 193,
   "metadata": {},
   "outputs": [
    {
     "ename": "AssertionError",
     "evalue": "a expressão deveria ser igual a 2, mas não foi",
     "output_type": "error",
     "traceback": [
      "\u001b[1;31m---------------------------------------------------------------------------\u001b[0m",
      "\u001b[1;31mAssertionError\u001b[0m                            Traceback (most recent call last)",
      "\u001b[1;32md:\\Pastas\\Notebooks\\Data Science do Zero\\capitulo 2\\capitulo_2.ipynb Cell 158\u001b[0m line \u001b[0;36m1\n\u001b[1;32m----> <a href='vscode-notebook-cell:/d%3A/Pastas/Notebooks/Data%20Science%20do%20Zero/capitulo%202/capitulo_2.ipynb#Y313sZmlsZQ%3D%3D?line=0'>1</a>\u001b[0m \u001b[39massert\u001b[39;00m \u001b[39m1\u001b[39m \u001b[39m+\u001b[39m \u001b[39m3\u001b[39m \u001b[39m==\u001b[39m \u001b[39m2\u001b[39m, \u001b[39m\"\u001b[39m\u001b[39ma expressão deveria ser igual a 2, mas não foi\u001b[39m\u001b[39m\"\u001b[39m\n",
      "\u001b[1;31mAssertionError\u001b[0m: a expressão deveria ser igual a 2, mas não foi"
     ]
    }
   ],
   "source": [
    "assert 1 + 3 == 2, \"a expressão deveria ser igual a 2, mas não foi\""
   ]
  },
  {
   "cell_type": "code",
   "execution_count": null,
   "metadata": {},
   "outputs": [],
   "source": [
    "assert 1 + 1 == 2"
   ]
  },
  {
   "cell_type": "markdown",
   "metadata": {},
   "source": [
    "### Ter certeza dos resultados das funções é mais interessante que ter certeza que 1 + 1 é igual a 2:"
   ]
  },
  {
   "cell_type": "code",
   "execution_count": null,
   "metadata": {},
   "outputs": [],
   "source": [
    "def smallest_item(lista: list) -> int:\n",
    "    return min(lista)\n",
    "\n",
    "assert smallest_item([10, 20, 5, 40]) == 5\n",
    "assert smallest_item([1, 0, 2, -1]) == -1"
   ]
  },
  {
   "cell_type": "markdown",
   "metadata": {},
   "source": [
    "### Também é possível utilizar asserts para garantir a entrada correta de dados numa função, mas serão mais utilizados com testes automatizados.\n"
   ]
  },
  {
   "cell_type": "code",
   "execution_count": null,
   "metadata": {},
   "outputs": [
    {
     "ename": "AssertionError",
     "evalue": "uma lista vazia não tem um menor item",
     "output_type": "error",
     "traceback": [
      "\u001b[1;31m---------------------------------------------------------------------------\u001b[0m",
      "\u001b[1;31mAssertionError\u001b[0m                            Traceback (most recent call last)",
      "\u001b[1;32md:\\Pastas\\Notebooks\\Data Science do Zero\\capitulo 2\\capitulo_2.ipynb Cell 163\u001b[0m line \u001b[0;36m6\n\u001b[0;32m      <a href='vscode-notebook-cell:/d%3A/Pastas/Notebooks/Data%20Science%20do%20Zero/capitulo%202/capitulo_2.ipynb#Y320sZmlsZQ%3D%3D?line=1'>2</a>\u001b[0m     \u001b[39massert\u001b[39;00m lista, \u001b[39m\"\u001b[39m\u001b[39muma lista vazia não tem um menor item\u001b[39m\u001b[39m\"\u001b[39m\n\u001b[0;32m      <a href='vscode-notebook-cell:/d%3A/Pastas/Notebooks/Data%20Science%20do%20Zero/capitulo%202/capitulo_2.ipynb#Y320sZmlsZQ%3D%3D?line=2'>3</a>\u001b[0m     \u001b[39mreturn\u001b[39;00m \u001b[39mmin\u001b[39m(lista)\n\u001b[1;32m----> <a href='vscode-notebook-cell:/d%3A/Pastas/Notebooks/Data%20Science%20do%20Zero/capitulo%202/capitulo_2.ipynb#Y320sZmlsZQ%3D%3D?line=5'>6</a>\u001b[0m menor_item([])\n",
      "\u001b[1;32md:\\Pastas\\Notebooks\\Data Science do Zero\\capitulo 2\\capitulo_2.ipynb Cell 163\u001b[0m line \u001b[0;36m2\n\u001b[0;32m      <a href='vscode-notebook-cell:/d%3A/Pastas/Notebooks/Data%20Science%20do%20Zero/capitulo%202/capitulo_2.ipynb#Y320sZmlsZQ%3D%3D?line=0'>1</a>\u001b[0m \u001b[39mdef\u001b[39;00m \u001b[39mmenor_item\u001b[39m(lista: \u001b[39mlist\u001b[39m) \u001b[39m-\u001b[39m\u001b[39m>\u001b[39m \u001b[39mint\u001b[39m:\n\u001b[1;32m----> <a href='vscode-notebook-cell:/d%3A/Pastas/Notebooks/Data%20Science%20do%20Zero/capitulo%202/capitulo_2.ipynb#Y320sZmlsZQ%3D%3D?line=1'>2</a>\u001b[0m     \u001b[39massert\u001b[39;00m lista, \u001b[39m\"\u001b[39m\u001b[39muma lista vazia não tem um menor item\u001b[39m\u001b[39m\"\u001b[39m\n\u001b[0;32m      <a href='vscode-notebook-cell:/d%3A/Pastas/Notebooks/Data%20Science%20do%20Zero/capitulo%202/capitulo_2.ipynb#Y320sZmlsZQ%3D%3D?line=2'>3</a>\u001b[0m     \u001b[39mreturn\u001b[39;00m \u001b[39mmin\u001b[39m(lista)\n",
      "\u001b[1;31mAssertionError\u001b[0m: uma lista vazia não tem um menor item"
     ]
    }
   ],
   "source": [
    "def menor_item(lista: list) -> int:\n",
    "    assert lista, \"uma lista vazia não tem um menor item\"\n",
    "    return min(lista)\n",
    "\n",
    "\n",
    "menor_item([])"
   ]
  },
  {
   "cell_type": "markdown",
   "metadata": {},
   "source": [
    "### As vezes isso será feito, mas é muito mais comum utilizar asserts para checar se o código está correto"
   ]
  },
  {
   "cell_type": "markdown",
   "metadata": {},
   "source": [
    "## <b>Programação orientada à objeto</b>"
   ]
  },
  {
   "cell_type": "markdown",
   "metadata": {},
   "source": [
    "### Como muitas linguagens de programação, python nos deixa definir classes que encapsulam dados e métodos que operam nelas. Algumas vezes utilizaremos classes para fazer nosso código mais legível e simples."
   ]
  },
  {
   "cell_type": "markdown",
   "metadata": {},
   "source": [
    "### Vamos construir uma classe que representa um contador de cliques, utilizado numa porta para descobrir quantas pessoas foram à reunião de tópicos avançados de ciência de dados."
   ]
  },
  {
   "cell_type": "markdown",
   "metadata": {},
   "source": [
    "### Ela possui um <b>count</b>, pode ser <b>clicada</b> para incrementar o count, te permite <b>ler_count</b>, e pode ser <b>resetada</b> novamente para zero."
   ]
  },
  {
   "cell_type": "markdown",
   "metadata": {},
   "source": [
    "### Para definir uma classe, se utiliza a palavra reservada <i>class</i>, utilizando PascalCase no nome"
   ]
  },
  {
   "cell_type": "code",
   "execution_count": null,
   "metadata": {},
   "outputs": [],
   "source": [
    "class CountingClicker:\n",
    "    \"\"\"\n",
    "    uma classe pode/deve conter um docstring, semelhante à uma função\n",
    "    \"\"\"\n",
    "    def __init__(self, count = 0) -> None:\n",
    "        self.count = count\n",
    "    \n"
   ]
  },
  {
   "cell_type": "markdown",
   "metadata": {},
   "source": [
    "### O construtor da classe (init) cria instâncias da classe cada vez que é chamado"
   ]
  },
  {
   "cell_type": "code",
   "execution_count": null,
   "metadata": {},
   "outputs": [],
   "source": [
    "contador1 = CountingClicker() # inicializado com 0\n",
    "contador2 = CountingClicker(100) # inicializado com 100\n",
    "contador3 = CountingClicker(count=100) # inicializado com 100 de forma mais explícita"
   ]
  },
  {
   "cell_type": "markdown",
   "metadata": {},
   "source": [
    "### É notável que o método construtor <b>\\_\\_init\\_\\_</b> começa e termina com duas underlines. Esses métodos \"mágicos\" são chamados de métodos \"dunder\" (double-under) e representam comportamentos especiais"
   ]
  },
  {
   "cell_type": "markdown",
   "metadata": {},
   "source": [
    "### Métodos que começam com underline dentro das classes são considerados, por convenção, \"privados\", e usuários não deveriam chamá-los de outras classes; apesar que o python não impede o usuário de fazer isso."
   ]
  },
  {
   "cell_type": "markdown",
   "metadata": {},
   "source": [
    "### Outro método parecido é o <b>\\_\\_repr\\_\\_</b>, que produz a representacao em string de uma instância da classe."
   ]
  },
  {
   "cell_type": "code",
   "execution_count": null,
   "metadata": {},
   "outputs": [],
   "source": [
    "class CountingClicker:\n",
    "    \"\"\"\n",
    "    uma classe pode/deve conter um docstring, semelhante à uma função\n",
    "    \"\"\"\n",
    "    def __init__(self, count = 0) -> None:\n",
    "        self.count = count\n",
    "    def __repr__(self) -> str:\n",
    "        return f\"CountingClicker(count={self.count})\"\n",
    "    "
   ]
  },
  {
   "cell_type": "markdown",
   "metadata": {},
   "source": [
    "### E vamos definir finalmente a API pública da nossa classe"
   ]
  },
  {
   "cell_type": "code",
   "execution_count": null,
   "metadata": {},
   "outputs": [],
   "source": [
    "class CountingClicker:\n",
    "    \"\"\"\n",
    "    uma classe pode/deve conter um docstring, semelhante à uma função\n",
    "    \"\"\"\n",
    "    def __init__(self, count = 0) -> None:\n",
    "        self.count = count\n",
    "    def __repr__(self) -> str:\n",
    "        return f\"CountingClicker(count={self.count})\"\n",
    "    def click(self, num_times = 1):\n",
    "        \"\"\"Clica o 'clicador' um determinado número de vezes\"\"\"\n",
    "        self.count += num_times\n",
    "    def read(self):\n",
    "        return self.count\n",
    "    def reset(self):\n",
    "        self.count = 0"
   ]
  },
  {
   "cell_type": "markdown",
   "metadata": {},
   "source": [
    "### Definindo nossa classe, vamos utilizar asserts para escrever alguns casos de teste:\n"
   ]
  },
  {
   "cell_type": "code",
   "execution_count": null,
   "metadata": {},
   "outputs": [],
   "source": [
    "clicker = CountingClicker()\n",
    "assert clicker.read() == 0, \"clicker deveria começar com 0\"\n",
    "clicker.click()\n",
    "clicker.click()\n",
    "assert clicker.read() == 2, \"depois de dois clicks, clicker deveria ter o valor 2\"\n",
    "clicker.reset()\n",
    "assert clicker.read() == 0, \"depois do reset, clicker deveria ter o valor 0\"\n"
   ]
  },
  {
   "cell_type": "markdown",
   "metadata": {},
   "source": [
    "### Escrever testes nos ajuda a garantir que o nosso código está funcionado da maneira que foi imaginado e que continua funcionando."
   ]
  },
  {
   "cell_type": "markdown",
   "metadata": {},
   "source": [
    "### Também iremos criar, eventualmente, subclasses que herdam alguns atributos e métodos da sua classe pai. Por exemplo, poderiamos criar um clicker não resetável herdando a classe base e sobrescrevendo o método reset para não fazer nada"
   ]
  },
  {
   "cell_type": "code",
   "execution_count": null,
   "metadata": {},
   "outputs": [],
   "source": [
    "class NoResetClicker(CountingClicker):\n",
    "    def reset(self):\n",
    "        pass\n",
    "\n",
    "clicker2 = NoResetClicker()\n",
    "assert clicker2.read() == 0, \"deveria começar com 0\"\n",
    "clicker2.click()\n",
    "assert clicker2.read() == 1, \"deveria ser 1 após clicar uma vez\"\n",
    "clicker2.reset()\n",
    "assert clicker2.read() == 1, \"reset não deveria fazer nada\"\n"
   ]
  },
  {
   "cell_type": "markdown",
   "metadata": {},
   "source": [
    "## <b>Iteradores e Geradores</b>"
   ]
  },
  {
   "cell_type": "markdown",
   "metadata": {},
   "source": [
    "### Uma coisa interessante sobre listas é que podemos acessar cada um dos valores individuais delas por meio de índices. Mas nem sempre você precisa disso. Uma lista de um bilhão de números ocuparia um espaço absurdo em memória. Se você só quer um elemento por vez, não existe uma razão boa para mantê-los na memória."
   ]
  },
  {
   "cell_type": "markdown",
   "metadata": {},
   "source": [
    "### Muitas vezes precisamos iterar sobre uma coleção utilizando o for e o in. Nesse caso, podemos criar geradores, que podem ser iterados mas geram seus valores de forma \"lazy\""
   ]
  },
  {
   "cell_type": "code",
   "execution_count": null,
   "metadata": {},
   "outputs": [],
   "source": [
    "def generate_range(n):\n",
    "    i = 0\n",
    "    while i < n:\n",
    "        yield i\n",
    "        i += 1"
   ]
  },
  {
   "cell_type": "markdown",
   "metadata": {},
   "source": [
    "### O loop a seguir consome o elemento gerado um por um, até que não tenha mais nenhum valor"
   ]
  },
  {
   "cell_type": "code",
   "execution_count": null,
   "metadata": {},
   "outputs": [
    {
     "name": "stdout",
     "output_type": "stream",
     "text": [
      "-------------\n",
      "iteração 1\n",
      "i: 0\n",
      "-------------\n",
      "iteração 2\n",
      "i: 1\n",
      "-------------\n",
      "iteração 3\n",
      "i: 2\n",
      "-------------\n",
      "iteração 4\n",
      "i: 3\n",
      "-------------\n",
      "iteração 5\n",
      "i: 4\n",
      "-------------\n"
     ]
    }
   ],
   "source": [
    "for i in generate_range(5):\n",
    "    print(\"-------------\")\n",
    "    print(f\"iteração {i + 1}\")\n",
    "    print(f\"i: {i}\")\n",
    "print(\"-------------\")"
   ]
  },
  {
   "cell_type": "markdown",
   "metadata": {},
   "source": [
    "### (Na verdade o método range() já é lazy e esse método não precisa ser recriado)"
   ]
  },
  {
   "cell_type": "markdown",
   "metadata": {},
   "source": [
    "### Com geradores você pode gerar até uma sequência infinita\n"
   ]
  },
  {
   "cell_type": "code",
   "execution_count": null,
   "metadata": {},
   "outputs": [],
   "source": [
    "def numeros_naturais():\n",
    "    n = 1\n",
    "    while True:\n",
    "        yield n\n",
    "        n+=1"
   ]
  },
  {
   "cell_type": "markdown",
   "metadata": {},
   "source": [
    "### Apesar que você provavelmente não deve iterar sobre ele sem usar algum tipo de break"
   ]
  },
  {
   "cell_type": "code",
   "execution_count": null,
   "metadata": {},
   "outputs": [
    {
     "name": "stdout",
     "output_type": "stream",
     "text": [
      "1\n",
      "2\n",
      "3\n",
      "4\n",
      "5\n",
      "6\n",
      "7\n",
      "8\n",
      "9\n",
      "10\n"
     ]
    }
   ],
   "source": [
    "# imprime os números naturais até o 10\n",
    "for i in numeros_naturais():\n",
    "    print(i)\n",
    "    if i == 10: break\n"
   ]
  },
  {
   "cell_type": "markdown",
   "metadata": {},
   "source": [
    "### Um contraponto de um processo \"preguiçoso\" é que você só pode iterar sobre ele uma vez: se o processo do gerador for custoso provavelmente vale mais a pena criar uma lista."
   ]
  },
  {
   "cell_type": "markdown",
   "metadata": {},
   "source": [
    "### Uma segunda forma de criar geradores é utilizando uma for comprehension em parenteses"
   ]
  },
  {
   "cell_type": "code",
   "execution_count": null,
   "metadata": {},
   "outputs": [],
   "source": [
    "pares_menores_que_20 = (i for i in generate_range(20) if i%2 == 0)"
   ]
  },
  {
   "cell_type": "markdown",
   "metadata": {},
   "source": [
    "### Um generator comprehension não faz nada até que você itere sobre ela (utilizando for ou next). Podemos utilizar isso para elaborar pipelines de processamento de dados"
   ]
  },
  {
   "cell_type": "code",
   "execution_count": null,
   "metadata": {},
   "outputs": [],
   "source": [
    "dados = numeros_naturais()\n",
    "pares = (x for x in dados if x % 2 == 0)\n",
    "pares_ao_quadrado = (x * x for x in pares)\n",
    "pares_ao_quadrado_terminados_em_6 = (x for x in pares_ao_quadrado if x % 10 == 6)"
   ]
  },
  {
   "cell_type": "markdown",
   "metadata": {},
   "source": [
    "### Mesmo que esses códigos pareçam loops infinitos, eles só executam seus comandos se forem efetivamente iterados"
   ]
  },
  {
   "cell_type": "code",
   "execution_count": null,
   "metadata": {},
   "outputs": [
    {
     "name": "stdout",
     "output_type": "stream",
     "text": [
      "número par ao quadrado terminado em 6 de número 0: 16\n",
      "número par ao quadrado terminado em 6 de número 1: 36\n",
      "número par ao quadrado terminado em 6 de número 2: 196\n",
      "número par ao quadrado terminado em 6 de número 3: 256\n",
      "número par ao quadrado terminado em 6 de número 4: 576\n",
      "número par ao quadrado terminado em 6 de número 5: 676\n",
      "número par ao quadrado terminado em 6 de número 6: 1156\n",
      "número par ao quadrado terminado em 6 de número 7: 1296\n",
      "número par ao quadrado terminado em 6 de número 8: 1936\n",
      "número par ao quadrado terminado em 6 de número 9: 2116\n",
      "número par ao quadrado terminado em 6 de número 10: 2916\n"
     ]
    }
   ],
   "source": [
    "dados = numeros_naturais()\n",
    "pares = (x for x in dados if x % 2 == 0)\n",
    "pares_ao_quadrado = (x * x for x in pares)\n",
    "pares_ao_quadrado_terminados_em_6 = (x for x in pares_ao_quadrado if x % 10 == 6) # o código foi reescrito para que toda vez que a célula for rodada o gerador seja novamente criado\n",
    "for indice, numero in enumerate(pares_ao_quadrado_terminados_em_6):\n",
    "    print(f\"número par ao quadrado terminado em 6 de número {indice}: {numero}\")\n",
    "    if indice == 10: break"
   ]
  },
  {
   "cell_type": "markdown",
   "metadata": {},
   "source": [
    "### Frequentemente utilizaremos também o índice de cada iteração sobre um gerador. Para isso, utilizamos a função enumerate() que retorna uma tupla"
   ]
  },
  {
   "cell_type": "code",
   "execution_count": null,
   "metadata": {},
   "outputs": [
    {
     "name": "stdout",
     "output_type": "stream",
     "text": [
      "----------------\n",
      "nome 1: Alice\n",
      "nome 2: Bob\n",
      "nome 3: Charlie\n",
      "nome 4: Debbie\n",
      "----------------\n",
      "nome 1: Alice\n",
      "nome 2: Bob\n",
      "nome 3: Charlie\n",
      "nome 4: Debbie\n",
      "----------------\n",
      "nome 1: Alice\n",
      "nome 2: Bob\n",
      "nome 3: Charlie\n",
      "nome 4: Debbie\n",
      "----------------\n"
     ]
    }
   ],
   "source": [
    "nomes = [\"Alice\", \"Bob\", \"Charlie\", \"Debbie\"]\n",
    "linha = lambda:print(\"----------------\")\n",
    "\n",
    "linha()\n",
    "# fora da convenção\n",
    "for i in range(len(nomes)):\n",
    "    print(f\"nome {i + 1}: {nomes[i]}\")\n",
    "linha()\n",
    "# fora da convenção\n",
    "i = 0\n",
    "for nome in nomes:\n",
    "    print(f\"nome {i + 1}: {nome}\")\n",
    "    i +=1\n",
    "linha()\n",
    "# dentro da convenção\n",
    "for i, nome in enumerate(nomes):\n",
    "    print(f\"nome {i + 1}: {nome}\")\n",
    "linha()"
   ]
  },
  {
   "cell_type": "markdown",
   "metadata": {},
   "source": [
    "### Isso será muito utilizado"
   ]
  },
  {
   "cell_type": "markdown",
   "metadata": {},
   "source": [
    "## <b>Aleatoriedade</b>"
   ]
  },
  {
   "cell_type": "markdown",
   "metadata": {},
   "source": [
    "### Conforme adentramos na ciência de dados, utilizaremos o conceito de aleatoriedade; que pode ser simulado através do módulo random()"
   ]
  },
  {
   "cell_type": "code",
   "execution_count": 194,
   "metadata": {},
   "outputs": [
    {
     "data": {
      "text/plain": [
       "[0.5714025946899135,\n",
       " 0.4288890546751146,\n",
       " 0.5780913011344704,\n",
       " 0.20609823213950174]"
      ]
     },
     "execution_count": 194,
     "metadata": {},
     "output_type": "execute_result"
    }
   ],
   "source": [
    "import random\n",
    "\n",
    "random.seed(10) # garante que o próximo resultado será sempre o mesmo\n",
    "\n",
    "quatro_randoms_uniformes = [random.random() for _ in range(4)]\n",
    "quatro_randoms_uniformes"
   ]
  },
  {
   "cell_type": "markdown",
   "metadata": {},
   "source": [
    "### O módulo random produz números pseudoaleatórios; números baseados num estado interno que você pode setar utilizando random.seed()"
   ]
  },
  {
   "cell_type": "code",
   "execution_count": null,
   "metadata": {},
   "outputs": [
    {
     "name": "stdout",
     "output_type": "stream",
     "text": [
      "0.5714025946899135\n",
      "0.5714025946899135\n"
     ]
    }
   ],
   "source": [
    "random.seed(10)\n",
    "print(random.random())\n",
    "random.seed(10)\n",
    "print(random.random())"
   ]
  },
  {
   "cell_type": "markdown",
   "metadata": {},
   "source": [
    "### Temos o mesmo output duas vezes por conta da seed 10"
   ]
  },
  {
   "cell_type": "markdown",
   "metadata": {},
   "source": [
    "### As vezes utilizaremos random.randrange() que leva um ou dois argumentos, os quais são os mesmos de range(), e vai nos retornar um número aleatório nesse range"
   ]
  },
  {
   "cell_type": "code",
   "execution_count": null,
   "metadata": {},
   "outputs": [
    {
     "name": "stdout",
     "output_type": "stream",
     "text": [
      "2\n",
      "5\n"
     ]
    }
   ],
   "source": [
    "print(random.randrange(10)) # escolhe aleatoriamente um número entre 0 e 9 incluindo 0 e 9\n",
    "print(random.randrange(3, 6)) # escolhe aleatoriamente um número entre 3 e 5 incluindo 3 e 5\n",
    "\n",
    "for i in range(1000):\n",
    "    teste = random.randrange(10)\n",
    "    assert teste < 10 and teste >= 0"
   ]
  },
  {
   "cell_type": "markdown",
   "metadata": {},
   "source": [
    "### Existem outros usos para random. Por exemplo, random.shuffle() embaralha os elementos de uma lista"
   ]
  },
  {
   "cell_type": "code",
   "execution_count": null,
   "metadata": {},
   "outputs": [
    {
     "data": {
      "text/plain": [
       "[9, 1, 6, 7, 8, 4, 10, 3, 2, 5]"
      ]
     },
     "execution_count": 99,
     "metadata": {},
     "output_type": "execute_result"
    }
   ],
   "source": [
    "lista_1_a_10 = [i for i in range(1, 11)]\n",
    "random.shuffle(lista_1_a_10)\n",
    "lista_1_a_10"
   ]
  },
  {
   "cell_type": "markdown",
   "metadata": {},
   "source": [
    "### Se você precisa pegar um elemento aleatoriamente da lista, pode utilizar random.choice()"
   ]
  },
  {
   "cell_type": "code",
   "execution_count": null,
   "metadata": {},
   "outputs": [
    {
     "data": {
      "text/plain": [
       "4"
      ]
     },
     "execution_count": 100,
     "metadata": {},
     "output_type": "execute_result"
    }
   ],
   "source": [
    "random.choice(lista_1_a_10)"
   ]
  },
  {
   "cell_type": "markdown",
   "metadata": {},
   "source": [
    "### E se você precisar escolher aleatoriamente uma amostra aleatória sem duplicatas, você pode utilizar random.sample()"
   ]
  },
  {
   "cell_type": "code",
   "execution_count": null,
   "metadata": {},
   "outputs": [
    {
     "data": {
      "text/plain": [
       "[33, 38, 47, 3, 60, 34]"
      ]
     },
     "execution_count": 102,
     "metadata": {},
     "output_type": "execute_result"
    }
   ],
   "source": [
    "numeros_loteria = range(1, 61)\n",
    "numeros_vencedores = random.sample(numeros_loteria, 6)\n",
    "numeros_vencedores"
   ]
  },
  {
   "cell_type": "markdown",
   "metadata": {},
   "source": [
    "### E se você quiser uma amostra aleatória com duplicatas, você pode utilizar random.choice() múltiplas vezes"
   ]
  },
  {
   "cell_type": "code",
   "execution_count": 195,
   "metadata": {},
   "outputs": [
    {
     "data": {
      "text/plain": [
       "[7, 4, 2, 0]"
      ]
     },
     "execution_count": 195,
     "metadata": {},
     "output_type": "execute_result"
    }
   ],
   "source": [
    "quatro_numeros_com_repeticoes = [random.choice(range(10)) for _ in range(4)]\n",
    "quatro_numeros_com_repeticoes"
   ]
  },
  {
   "cell_type": "markdown",
   "metadata": {},
   "source": [
    "## <b>Expressões regulares</b>"
   ]
  },
  {
   "cell_type": "markdown",
   "metadata": {},
   "source": [
    "### Expressões regulares provém uma maneira de pesquisar texto. Elas são muito úteis, mas também consideravelmente complicadas; tanto que existem livros inteiros sobre elas. Mais detalhes sobre elas serão discutidos ao longo do livro."
   ]
  },
  {
   "cell_type": "markdown",
   "metadata": {},
   "source": [
    "### Alguns exemplos de expressões regulares: "
   ]
  },
  {
   "cell_type": "code",
   "execution_count": null,
   "metadata": {},
   "outputs": [],
   "source": [
    "import re \n",
    "\n",
    "re_exemplos = [\n",
    "    not re.match(\"a\", \"gato\"), # \"gato\" não começa com a\n",
    "    re.search(\"a\", \"gato\"), # \"gato\" possui a letra a\n",
    "    not re.search(\"g\", \"cachorro\"), # \"cachorro\" não tem a letra \"g\"\n",
    "    3 == len(re.split(\"[ab]\", \"carbs\")), # dá split no a ou b pra [\"c\", \"r\", \"s\"]\n",
    "    \"R-D-\" == re.sub(\"[0-9]\", \"-\", \"R2D2\") # substitui digitos por hífens\n",
    "]\n",
    "\n",
    "assert all(re_exemplos) # todos os exemplos deveriam ser verdadeiros"
   ]
  },
  {
   "cell_type": "markdown",
   "metadata": {},
   "source": [
    "### Uma coisa importante a se notar é que re.match checa se o <i>começo</i> de uma string é igual a uma expressão regular, enquanto re.search checa se <i>qualquer parte</i> da string é igual a uma expressão regular. É provavel que você se confunda, eventualmente, com elas; atenção."
   ]
  },
  {
   "cell_type": "markdown",
   "metadata": {},
   "source": [
    "### A <a href = \"https://docs.python.org/3/library/re.html\" style = \"color:red\">documentação oficial</a> entra muito mais em detalhes \n"
   ]
  },
  {
   "cell_type": "markdown",
   "metadata": {},
   "source": [
    "## <b>Programação funcional</b>"
   ]
  },
  {
   "cell_type": "markdown",
   "metadata": {},
   "source": [
    "### <b>Nota:</b>\n",
    "\n",
    "### A primeira edição desse livro introduzia as funções partial, map, reduce e filter nesse momento. Durante a jornada do autor, ele chega à conclusão de que essas funções são, geralmente, melhores se evitadas e o uso delas no livro foi substituido por loops for."
   ]
  },
  {
   "cell_type": "markdown",
   "metadata": {},
   "source": [
    "## <b>zip e Desempacotamento de Args</b>"
   ]
  },
  {
   "cell_type": "markdown",
   "metadata": {},
   "source": [
    "### Eventualmente teremos de juntar dois ou mais iteráveis em um só: para isso utilizaremos a função zip, que transforma os iteráveis em tuplas"
   ]
  },
  {
   "cell_type": "code",
   "execution_count": null,
   "metadata": {},
   "outputs": [],
   "source": [
    "lista_1 = [1, 2, 3]\n",
    "lista_2 = [\"a\", \"b\", \"c\"]"
   ]
  },
  {
   "cell_type": "markdown",
   "metadata": {},
   "source": [
    "### Como zip opera de forma lazy, você precisa iterar sobre o objeto"
   ]
  },
  {
   "cell_type": "code",
   "execution_count": null,
   "metadata": {},
   "outputs": [
    {
     "data": {
      "text/plain": [
       "[(1, 'a'), (2, 'b'), (3, 'c')]"
      ]
     },
     "execution_count": 98,
     "metadata": {},
     "output_type": "execute_result"
    }
   ],
   "source": [
    "[par for par in zip(lista_1, lista_2)]"
   ]
  },
  {
   "cell_type": "markdown",
   "metadata": {},
   "source": [
    "### Se um dos iteráveis for menor que o outro, ele é limitante na função zip"
   ]
  },
  {
   "cell_type": "code",
   "execution_count": null,
   "metadata": {},
   "outputs": [
    {
     "data": {
      "text/plain": [
       "[(1, 'a'), (2, 'b')]"
      ]
     },
     "execution_count": 100,
     "metadata": {},
     "output_type": "execute_result"
    }
   ],
   "source": [
    "lista_1 = [1, 2, 3]\n",
    "lista_2 = ['a', 'b']\n",
    "\n",
    "[par for par in zip(lista_1, lista_2)]"
   ]
  },
  {
   "cell_type": "markdown",
   "metadata": {},
   "source": [
    "### Você tambem pode desempacotar uma lista usando um truque esquisito:"
   ]
  },
  {
   "cell_type": "code",
   "execution_count": null,
   "metadata": {},
   "outputs": [
    {
     "data": {
      "text/plain": [
       "[('a', 'b', 'c'), ('1', '2', '3')]"
      ]
     },
     "execution_count": 102,
     "metadata": {},
     "output_type": "execute_result"
    }
   ],
   "source": [
    "pares = [(\"a\", \"1\"), (\"b\", \"2\"), (\"c\", \"3\")]\n",
    "\n",
    "letras, numeros = zip(*pares)\n",
    "\n",
    "[letras, numeros]"
   ]
  },
  {
   "cell_type": "markdown",
   "metadata": {},
   "source": [
    "### O asterisco performa desempacotamento de argumentos, que usa cada um dos elementos de \"pares\" como argumentos individuais para zip. É a mesma coisa que chamar: "
   ]
  },
  {
   "cell_type": "code",
   "execution_count": null,
   "metadata": {},
   "outputs": [
    {
     "data": {
      "text/plain": [
       "[('a', 'b', 'c'), ('1', '2', '3')]"
      ]
     },
     "execution_count": 103,
     "metadata": {},
     "output_type": "execute_result"
    }
   ],
   "source": [
    "letras, numeros = zip((\"a\", \"1\"), (\"b\", \"2\"), (\"c\", \"3\"))\n",
    " \n",
    "[letras, numeros]"
   ]
  },
  {
   "cell_type": "markdown",
   "metadata": {},
   "source": [
    "### No caso acima, a função zip junta todos os primeiros elementos dos pares em uma tupla e todos os segundos noutra"
   ]
  },
  {
   "cell_type": "markdown",
   "metadata": {},
   "source": [
    "### Você pode utilizar desempacotamento de argumentos em qualquer função: "
   ]
  },
  {
   "cell_type": "code",
   "execution_count": null,
   "metadata": {},
   "outputs": [
    {
     "name": "stdout",
     "output_type": "stream",
     "text": [
      "adicionar espera 2 argumentos\n"
     ]
    },
    {
     "data": {
      "text/plain": [
       "3"
      ]
     },
     "execution_count": 104,
     "metadata": {},
     "output_type": "execute_result"
    }
   ],
   "source": [
    "def adicionar(a, b): return a + b\n",
    "\n",
    "adicionar(1, 2) # retorna 3\n",
    "\n",
    "try:\n",
    "    adicionar([1, 2]) # não compila\n",
    "except TypeError:\n",
    "    print(\"adicionar espera 2 argumentos\")\n",
    "\n",
    "adicionar(*[1,2]) # retorna 3"
   ]
  },
  {
   "cell_type": "markdown",
   "metadata": {},
   "source": [
    "### Não é sempre que isso vai ser útil, mas quando for vai ser interessante."
   ]
  },
  {
   "cell_type": "markdown",
   "metadata": {},
   "source": [
    "## <b>args e kwargs</b>"
   ]
  },
  {
   "cell_type": "markdown",
   "metadata": {},
   "source": [
    "### Digamos que nós queremos criar uma função de ordem maior, que leva como input uma função f e retorna uma nova função que, para qualquer inputs, retorna o dobro do valor de f"
   ]
  },
  {
   "cell_type": "code",
   "execution_count": null,
   "metadata": {},
   "outputs": [],
   "source": [
    "def dobrar(f):\n",
    "    # Aqui definimos uma função que mantém a referência à f\n",
    "    def g(x):\n",
    "        return 2 * f(x)\n",
    "    return g\n"
   ]
  },
  {
   "cell_type": "markdown",
   "metadata": {},
   "source": [
    "### Isso funciona em alguns casos:\n"
   ]
  },
  {
   "cell_type": "code",
   "execution_count": 197,
   "metadata": {},
   "outputs": [],
   "source": [
    "def f1(x):\n",
    "    return x+1\n",
    "\n",
    "g = dobrar(f1)\n",
    "\n",
    "assert g(3) == 8\n",
    "assert g(-1) == 0"
   ]
  },
  {
   "cell_type": "markdown",
   "metadata": {},
   "source": [
    "### Porém, não funciona com funções que possuem mais de um argumento:"
   ]
  },
  {
   "cell_type": "code",
   "execution_count": 198,
   "metadata": {},
   "outputs": [
    {
     "name": "stdout",
     "output_type": "stream",
     "text": [
      "foi definido que g leva somente um argumento\n"
     ]
    }
   ],
   "source": [
    "def f2(x, y):\n",
    "    return x + y\n",
    "\n",
    "g = dobrar(f2)\n",
    "\n",
    "try: \n",
    "    g(1, 2)\n",
    "except TypeError:\n",
    "    print(\"foi definido que g leva somente um argumento\")"
   ]
  },
  {
   "cell_type": "markdown",
   "metadata": {},
   "source": [
    "### O que precisamos é de uma forma de especificar uma função que toma parâmetros arbitrários. Podemos fazer isso com desempacotamento de argumentos e um pouco de mágica:"
   ]
  },
  {
   "cell_type": "code",
   "execution_count": 199,
   "metadata": {},
   "outputs": [
    {
     "name": "stdout",
     "output_type": "stream",
     "text": [
      "args sem nome:  (1, 2)\n",
      "args nomeados: {'key': 'word', 'key2': 'word2'}\n"
     ]
    }
   ],
   "source": [
    "def magic(*args, **kwargs):\n",
    "    print(\"args sem nome: \", args)\n",
    "    print(\"args nomeados:\", kwargs)\n",
    "\n",
    "magic(1, 2, key=\"word\", key2=\"word2\")"
   ]
  },
  {
   "cell_type": "markdown",
   "metadata": {},
   "source": [
    "### Dessa forma, quando definimos uma função desse jeito, args é uma tupla de argumentos sem nome e kwargs é um dicionário de argumentos nomeados. Funciona no outro sentido também: se você quiser, pode usar uma lista (ou tupla) e um dicionário para suprir argumentos para uma função"
   ]
  },
  {
   "cell_type": "code",
   "execution_count": 202,
   "metadata": {},
   "outputs": [],
   "source": [
    "def magica_no_outro_sentido(x, y, z):\n",
    "    return x + y + z\n",
    "\n",
    "x_y_lista = [1, 2]\n",
    "z_dicionario = {\"z\": 3}\n",
    "assert magica_no_outro_sentido(*x_y_lista, **z_dicionario) == 6, \"1 + 2 + 3 deveria ser igual a 6\"\n"
   ]
  },
  {
   "cell_type": "markdown",
   "metadata": {},
   "source": [
    "### Você pode fazer diversos tipos de truques estranhos com isso; no contexto do livro, apenas usaremos para produzir funções de ordem maior, as quais os inputs podem aceitar argumentos arbitrários: "
   ]
  },
  {
   "cell_type": "code",
   "execution_count": 204,
   "metadata": {},
   "outputs": [],
   "source": [
    "def dobrar_correto(f):\n",
    "    \"\"\"\"funciona independentemente do tipo do input\"\"\"\n",
    "    def g(*args, **kwargs):\n",
    "        \"\"\"independente de qual for o argumento que g recebe, passe para f\"\"\"\n",
    "        return 2 * f(*args, **kwargs)\n",
    "    return g\n",
    "\n",
    "g = dobrar_correto(f2)\n",
    "assert g(1, 2) == 6, \"deveria funcionar agora\""
   ]
  },
  {
   "cell_type": "markdown",
   "metadata": {},
   "source": [
    "### Como uma regra geral, seu código vai ser mais legível e correto se você for explícito sobre que tipos de argumentos suas funções precisam; dessa maneira, nós usaremos args e kwargs apenas quando for estritamente necessário"
   ]
  },
  {
   "cell_type": "markdown",
   "metadata": {},
   "source": [
    "## <b>Anotações de tipo (type hints)</b>"
   ]
  },
  {
   "cell_type": "markdown",
   "metadata": {},
   "source": [
    "### Python é uma linguagem dinamicamente tipada. Isso significa que ele não se importa com os tipos de objetos que usamos, desde que sejam usados da maneira correta:"
   ]
  },
  {
   "cell_type": "code",
   "execution_count": 206,
   "metadata": {},
   "outputs": [
    {
     "name": "stdout",
     "output_type": "stream",
     "text": [
      "não é possível adicionar um inteiro e uma string\n"
     ]
    }
   ],
   "source": [
    "def add(a, b):\n",
    "    return a + b\n",
    "\n",
    "assert add(10, 5) == 15, \"+ funciona com numeros\"\n",
    "assert add([1, 2], [3]) == [1, 2, 3], \"+ funciona com listas\"\n",
    "assert add(\"olá \", \"amigo\") == \"olá amigo\", \"+ funciona com strings\"\n",
    "\n",
    "try:\n",
    "    add(10, \"five\")\n",
    "except TypeError:\n",
    "    print(\"não é possível adicionar um inteiro e uma string\")\n"
   ]
  },
  {
   "cell_type": "markdown",
   "metadata": {},
   "source": [
    "### Enquanto isso, em uma linguagem estaticamente tipada, nossas funções e objetos teriam tipos específicos:"
   ]
  },
  {
   "cell_type": "code",
   "execution_count": 213,
   "metadata": {},
   "outputs": [],
   "source": [
    "def add(a: int, b: int) -> int:\n",
    "    return a + b\n",
    "\n",
    "add(10, 5) # isso estaria correto\n",
    "\n",
    "try: add(\"olá \", \"amigo\") #isso não estaria correto\n",
    "except: print(\"a extensao de type hints deixa isso ser compilado, mas indica um erro\")"
   ]
  },
  {
   "cell_type": "markdown",
   "metadata": {},
   "source": [
    "### Versões mais recentes do python possuem (mais ou menos) essa funcionalidade. As type hints não fazem nada na prática, são apenas visuais. Existe uma extensão que indica um erro de tipo, mas também é apenas visual."
   ]
  },
  {
   "cell_type": "markdown",
   "metadata": {},
   "source": [
    "### De qualquer maneira, existem (pelo menos) quatro boas razões para usar type hints:\n",
    "\n",
    "- ### Tipos são uma importante forma de documentação. Isso é duplamente verdade em um livro que usa código para te ensinar conceitos matemáticos teóricos; compare as duas definições a seguir: "
   ]
  },
  {
   "cell_type": "code",
   "execution_count": 219,
   "metadata": {},
   "outputs": [],
   "source": [
    "def dot_products(x, y): ...\n"
   ]
  },
  {
   "cell_type": "code",
   "execution_count": 220,
   "metadata": {},
   "outputs": [],
   "source": [
    "class Vector: # definição arbitrária de vetor, sem significado\n",
    "    def __init__(self) -> None:\n",
    "        pass"
   ]
  },
  {
   "cell_type": "code",
   "execution_count": 221,
   "metadata": {},
   "outputs": [],
   "source": [
    "def dot_products(x: Vector, y: Vector) -> float: ..."
   ]
  },
  {
   "cell_type": "markdown",
   "metadata": {},
   "source": [
    "### A segunda função me parece muito mais intuitiva de se entender. O autor comenta que está tão acostumado com type hints que agora acha código sem tipos difícil de ler."
   ]
  },
  {
   "cell_type": "markdown",
   "metadata": {},
   "source": [
    "- ### Existem ferramentas externas que vão ler seu código, inspecionar as type hints, e te informar sobre seus erros de tipo antes de você rodar o código. Por exemplo, se você rodar mypy sobre um arquivo contendo add(\"hi \", \"there\") ele te avisaria. Da mesma forma que os testes com assert, essa é uma boa maneira de achar erros no seu código antes de rodá-lo."
   ]
  },
  {
   "cell_type": "markdown",
   "metadata": {},
   "source": [
    "- ### Precisar pensar nos tipos do seu código te força a projetar funções e interfaces mais limpas:"
   ]
  },
  {
   "cell_type": "code",
   "execution_count": 218,
   "metadata": {},
   "outputs": [],
   "source": [
    "from typing import Union\n",
    "\n",
    "def funcao_secretamente_feia(valor, operacao): ...\n",
    "\n",
    "def funcao_feia(valor: int,\n",
    "                operacao: Union[str, int, float, bool]) -> int: ...\n",
    "\n"
   ]
  },
  {
   "cell_type": "markdown",
   "metadata": {},
   "source": [
    "### Aqui temos uma função cujo parâmetro operação pode ser uma string, um inteiro, um float ou um booleano. É bem provável que essa função seja frágil e difícil de usar, mas fica muito mais claro quando os tipos são explicitados. Fazer dessa forma vai nos forçar a projetar uma função menos clunky; os usuários agradecerão."
   ]
  },
  {
   "cell_type": "markdown",
   "metadata": {},
   "source": [
    "- ### Usar tipos permite seu editor a ajudar você com coisas tipo autocomplete:"
   ]
  },
  {
   "cell_type": "markdown",
   "metadata": {},
   "source": [
    "![Alt text](imagens/image.png)"
   ]
  },
  {
   "cell_type": "markdown",
   "metadata": {},
   "source": [
    "### Algumas pessoas insistem que type hints podem ser valiosas em projetos maiores, mas que não valem a pena nos pequenos. Porém, já que type hints levam praticamente nenhum tempo extra para escrever e permitem seu editor a te ajudar a escrever código mais rápido, o autor comenta que as indica; mesmo para projetos pequenos."
   ]
  },
  {
   "cell_type": "markdown",
   "metadata": {},
   "source": [
    "### <b>Como escrever Type Hints</b>"
   ]
  },
  {
   "cell_type": "markdown",
   "metadata": {},
   "source": [
    "### Como já foi visto, em tipos nativos como int, bool e float utiliza-se o próprio tipo como type hint. Mas e se você tivesse uma lista?"
   ]
  },
  {
   "cell_type": "code",
   "execution_count": 217,
   "metadata": {},
   "outputs": [],
   "source": [
    "def total(xs: list)-> float:\n",
    "    return sum(xs)"
   ]
  },
  {
   "cell_type": "markdown",
   "metadata": {},
   "source": [
    "### Não está errado, mas o tipo não é específico o suficiente. Está claro que nós queremos que xs seja uma lista de floats, não uma lista de strings (por exemplo)"
   ]
  },
  {
   "cell_type": "markdown",
   "metadata": {},
   "source": [
    "### O módulo typing provê um número de typos com parâmetros que podemos utilizar nesse caso:"
   ]
  },
  {
   "cell_type": "code",
   "execution_count": 216,
   "metadata": {},
   "outputs": [],
   "source": [
    "from typing import List # primeira letra maiuscula\n",
    "\n",
    "def total(xs: List[float]) -> float:\n",
    "    return sum(xs)"
   ]
  },
  {
   "cell_type": "markdown",
   "metadata": {},
   "source": [
    "### Até agora só especificamos anotações para parâmetros de função e tipos de retorno. Para variáveis geralmente é óbvio qual o tipo:"
   ]
  },
  {
   "cell_type": "code",
   "execution_count": 215,
   "metadata": {},
   "outputs": [],
   "source": [
    "x: int = 5 # isso é desnecessário, visto que x é obviamente um int"
   ]
  },
  {
   "cell_type": "markdown",
   "metadata": {},
   "source": [
    "### Porém, as vezes não é óbvio:"
   ]
  },
  {
   "cell_type": "code",
   "execution_count": 214,
   "metadata": {},
   "outputs": [],
   "source": [
    "valores = []\n",
    "melhor_ate_agora = None\n",
    "\n",
    "# nenhum dos tipos é óbvio"
   ]
  },
  {
   "cell_type": "markdown",
   "metadata": {},
   "source": [
    "### Nesses casos, é bom utilizar type hints:\n"
   ]
  },
  {
   "cell_type": "code",
   "execution_count": 222,
   "metadata": {},
   "outputs": [],
   "source": [
    "from typing import Optional\n",
    "\n",
    "valores: List[int] = []\n",
    "melhor_ate_agora: Optional[float] = None # pode ser um float ou None"
   ]
  },
  {
   "cell_type": "markdown",
   "metadata": {},
   "source": [
    "### O módulo typing tem muitos outros tipos, como por exemplo:"
   ]
  },
  {
   "cell_type": "code",
   "execution_count": 223,
   "metadata": {},
   "outputs": [],
   "source": [
    "from typing import Dict, Iterable, Tuple\n",
    "\n",
    "counts: Dict[str, int] = {\"data\" : 1, \"science\" : 2}\n",
    "\n",
    "lazy: bool = True\n",
    "if lazy: # listas e geradores são iteraveis\n",
    "    pares: Iterable[int] = (x for x in range(10) if x%2 == 0)\n",
    "else: pares = [0, 2, 4, 6, 8]\n",
    "\n",
    "# tuplas especificam um tipo para cada elemento\n",
    "\n",
    "triplo: Tuple[int, float, int] = (10, 2.3, 5)"
   ]
  },
  {
   "cell_type": "markdown",
   "metadata": {},
   "source": [
    "### Finalmente, como python possui funções de primeira classe, precisamos de um tipo para representá-las."
   ]
  },
  {
   "cell_type": "code",
   "execution_count": 230,
   "metadata": {},
   "outputs": [],
   "source": [
    "from typing import Callable\n",
    "\n",
    "def dobro(repetidor: Callable[[str, int], str], s: str) -> str:\n",
    "    return repetidor(s, 2)\n",
    "\n",
    "def repetidor_virgulas(s: str, n: int) -> str:\n",
    "    numero_copias = [s for _ in range(n)]\n",
    "    return \", \".join(numero_copias)\n",
    "\n",
    "assert dobro(repetidor_virgulas, \"type hints\") == \"type hints, type hints\""
   ]
  },
  {
   "cell_type": "markdown",
   "metadata": {},
   "source": [
    "### Como anotações de tipo são objetos Python, podemos os atribuir à variáveis pra fazê-los mais fáceis de serem chamados:"
   ]
  },
  {
   "cell_type": "code",
   "execution_count": 231,
   "metadata": {},
   "outputs": [],
   "source": [
    "Number = int\n",
    "Numbers = List[Number]\n",
    "\n",
    "def total(xs: Numbers) -> Number:\n",
    "    return sum(xs)\n"
   ]
  },
  {
   "cell_type": "markdown",
   "metadata": {},
   "source": [
    "### Dicas de tipo concluem o capítulo 2, um tópico muito relevante para o contexto."
   ]
  },
  {
   "cell_type": "code",
   "execution_count": 8,
   "metadata": {},
   "outputs": [
    {
     "data": {
      "image/png": "[encoded data removed]",
      "text/plain": [
       "<Figure size 640x480 with 1 Axes>"
      ]
     },
     "metadata": {},
     "output_type": "display_data"
    },
    {
     "data": {
      "image/png": "[encoded data removed]",
      "text/plain": [
       "<Figure size 640x480 with 1 Axes>"
      ]
     },
     "metadata": {},
     "output_type": "display_data"
    }
   ],
   "source": [
    "import matplotlib.pyplot as plt\n",
    "\n",
    "x = [2013, 2014]\n",
    "y = [500, 505]\n",
    "\n",
    "plt.bar(x, y, color=\"black\")\n",
    "plt.xticks(x)\n",
    "plt.show()\n",
    "plt.bar(x, y, color=\"black\")\n",
    "plt.ylim(499, 506)\n",
    "plt.xticks(x)\n",
    "plt.show()"
   ]
  }
 ],
 "metadata": {
  "kernelspec": {
   "display_name": "base",
   "language": "python",
   "name": "python3"
  },
  "language_info": {
   "codemirror_mode": {
    "name": "ipython",
    "version": 3
   },
   "file_extension": ".py",
   "mimetype": "text/x-python",
   "name": "python",
   "nbconvert_exporter": "python",
   "pygments_lexer": "ipython3",
   "version": "3.11.3"
  },
  "orig_nbformat": 4
 },
 "nbformat": 4,
 "nbformat_minor": 2
}
